{
 "cells": [
  {
   "cell_type": "code",
   "execution_count": 1,
   "id": "e12749c4",
   "metadata": {},
   "outputs": [],
   "source": [
    "import numpy as np"
   ]
  },
  {
   "cell_type": "code",
   "execution_count": 2,
   "id": "3a4b0fed",
   "metadata": {},
   "outputs": [
    {
     "data": {
      "text/plain": [
       "[0, 1, 2, 3, 4, 5, 6, 7, 8, 9]"
      ]
     },
     "execution_count": 2,
     "metadata": {},
     "output_type": "execute_result"
    }
   ],
   "source": [
    "#creating a numpy list\n",
    "mylist = [i for i in range(10)] #this is a list\n",
    "mylist"
   ]
  },
  {
   "cell_type": "code",
   "execution_count": 3,
   "id": "1b67f300",
   "metadata": {},
   "outputs": [
    {
     "data": {
      "text/plain": [
       "[0, 1, 2, 3, 4, 5, 6, 7, 8, 9, 0, 1, 2, 3, 4, 5, 6, 7, 8, 9]"
      ]
     },
     "execution_count": 3,
     "metadata": {},
     "output_type": "execute_result"
    }
   ],
   "source": [
    "# you cant easily multiply every member of a list i.e if you multiply it just makes\n",
    "mylist * 2\n"
   ]
  },
  {
   "cell_type": "code",
   "execution_count": 4,
   "id": "4e3887d7",
   "metadata": {},
   "outputs": [
    {
     "data": {
      "text/plain": [
       "numpy.ndarray"
      ]
     },
     "execution_count": 4,
     "metadata": {},
     "output_type": "execute_result"
    }
   ],
   "source": [
    "# you have to change it to a numpy array\n",
    "myarray = np.array(mylist)\n",
    "type(myarray)"
   ]
  },
  {
   "cell_type": "code",
   "execution_count": 5,
   "id": "449bd8bc",
   "metadata": {},
   "outputs": [
    {
     "data": {
      "text/plain": [
       "array([ 0,  2,  4,  6,  8, 10, 12, 14, 16, 18])"
      ]
     },
     "execution_count": 5,
     "metadata": {},
     "output_type": "execute_result"
    }
   ],
   "source": [
    "myarray*2 # you can multiply every member of the array using this method."
   ]
  },
  {
   "cell_type": "code",
   "execution_count": 10,
   "id": "2fd127f5",
   "metadata": {},
   "outputs": [
    {
     "data": {
      "text/plain": [
       "array([[ 0,  1,  5],\n",
       "       [-2,  1,  4],\n",
       "       [ 7,  8,  9]])"
      ]
     },
     "execution_count": 10,
     "metadata": {},
     "output_type": "execute_result"
    }
   ],
   "source": [
    "# creating a numpy matrix you can do that by using np.array([[what you want on the first row],[what you want in the second row]...])\n",
    "mymatrix = np.array([[0,1,5],[-2,1,4],[7,8,9]])\n",
    "mymatrix"
   ]
  },
  {
   "cell_type": "code",
   "execution_count": 11,
   "id": "9afb3e8e",
   "metadata": {},
   "outputs": [
    {
     "data": {
      "text/plain": [
       "array([[ 0],\n",
       "       [-2],\n",
       "       [ 7]])"
      ]
     },
     "execution_count": 11,
     "metadata": {},
     "output_type": "execute_result"
    }
   ],
   "source": [
    "# You can collect a specific row from the matrix using matrixname[Starting index of row: ending index of row,index of colum:index of ending row(not included)]\n",
    "#\"putting a \":\" means all items\"\n",
    "mymatrix[:,0:1]"
   ]
  },
  {
   "cell_type": "code",
   "execution_count": 12,
   "id": "5c5361a6",
   "metadata": {},
   "outputs": [
    {
     "data": {
      "text/plain": [
       "array([[1],\n",
       "       [1],\n",
       "       [8]])"
      ]
     },
     "execution_count": 12,
     "metadata": {},
     "output_type": "execute_result"
    }
   ],
   "source": [
    "mymatrix[:,1:2]"
   ]
  },
  {
   "cell_type": "code",
   "execution_count": 13,
   "id": "4651ea46",
   "metadata": {},
   "outputs": [
    {
     "data": {
      "text/plain": [
       "array([[5],\n",
       "       [4]])"
      ]
     },
     "execution_count": 13,
     "metadata": {},
     "output_type": "execute_result"
    }
   ],
   "source": [
    "mymatrix[0:2,2:3]"
   ]
  },
  {
   "cell_type": "code",
   "execution_count": 14,
   "id": "918e31ac",
   "metadata": {},
   "outputs": [
    {
     "data": {
      "text/plain": [
       "array([[ 0,  1,  5],\n",
       "       [-2,  1,  4],\n",
       "       [ 7,  8,  9]])"
      ]
     },
     "execution_count": 14,
     "metadata": {},
     "output_type": "execute_result"
    }
   ],
   "source": [
    "mymatrix[:,:]"
   ]
  },
  {
   "cell_type": "markdown",
   "id": "9ce1e165",
   "metadata": {},
   "source": [
    "## arange"
   ]
  },
  {
   "cell_type": "markdown",
   "id": "10c5c79c",
   "metadata": {},
   "source": [
    "Returns evenly spaced values in a given interval"
   ]
  },
  {
   "cell_type": "code",
   "execution_count": 15,
   "id": "37f7296a",
   "metadata": {},
   "outputs": [
    {
     "data": {
      "text/plain": [
       "array([0, 1, 2, 3, 4, 5, 6, 7, 8, 9])"
      ]
     },
     "execution_count": 15,
     "metadata": {},
     "output_type": "execute_result"
    }
   ],
   "source": [
    "myarange = np.arange(10)\n",
    "myarange"
   ]
  },
  {
   "cell_type": "code",
   "execution_count": 16,
   "id": "288b6fc3",
   "metadata": {},
   "outputs": [
    {
     "data": {
      "text/plain": [
       "array([0, 2, 4, 6, 8])"
      ]
     },
     "execution_count": 16,
     "metadata": {},
     "output_type": "execute_result"
    }
   ],
   "source": [
    "#.arange(starting num,ending num, how much you want to increment by)\n",
    "myrangestep = np.arange(0,10,2)\n",
    "myrangestep"
   ]
  },
  {
   "cell_type": "code",
   "execution_count": 17,
   "id": "cbab0987",
   "metadata": {},
   "outputs": [
    {
     "data": {
      "text/plain": [
       "array([[0., 0., 0.],\n",
       "       [0., 0., 0.],\n",
       "       [0., 0., 0.]])"
      ]
     },
     "execution_count": 17,
     "metadata": {},
     "output_type": "execute_result"
    }
   ],
   "source": [
    "#Generate a 3 by 3 matrix of zeroes to balance datasets make sure you put them in double paranthesis\n",
    "z = np.zeros((3,3))\n",
    "z"
   ]
  },
  {
   "cell_type": "code",
   "execution_count": 19,
   "id": "d43c119b",
   "metadata": {},
   "outputs": [
    {
     "data": {
      "text/plain": [
       "array([0., 0., 0., 0.])"
      ]
     },
     "execution_count": 19,
     "metadata": {},
     "output_type": "execute_result"
    }
   ],
   "source": [
    "#generate an array of zeroes\n",
    "Z = np.zeros(4)\n",
    "Z"
   ]
  },
  {
   "cell_type": "code",
   "execution_count": 21,
   "id": "c879f246",
   "metadata": {},
   "outputs": [
    {
     "data": {
      "text/plain": [
       "array([1., 1., 1., 1., 1.])"
      ]
     },
     "execution_count": 21,
     "metadata": {},
     "output_type": "execute_result"
    }
   ],
   "source": [
    "O1 = np.ones(5)\n",
    "O1"
   ]
  },
  {
   "cell_type": "code",
   "execution_count": 23,
   "id": "4b3a952d",
   "metadata": {},
   "outputs": [
    {
     "data": {
      "text/plain": [
       "array([[1., 1., 1., 1., 1., 1.],\n",
       "       [1., 1., 1., 1., 1., 1.],\n",
       "       [1., 1., 1., 1., 1., 1.],\n",
       "       [1., 1., 1., 1., 1., 1.],\n",
       "       [1., 1., 1., 1., 1., 1.],\n",
       "       [1., 1., 1., 1., 1., 1.]])"
      ]
     },
     "execution_count": 23,
     "metadata": {},
     "output_type": "execute_result"
    }
   ],
   "source": [
    "#make sure you put in them in double parenthesis\n",
    "O6 = np.ones((6,6))\n",
    "O6"
   ]
  },
  {
   "cell_type": "code",
   "execution_count": 24,
   "id": "f283c888",
   "metadata": {},
   "outputs": [],
   "source": [
    "#linspace returns evenly spaced numbers over a specified interval"
   ]
  },
  {
   "cell_type": "code",
   "execution_count": 29,
   "id": "9b688c6c",
   "metadata": {},
   "outputs": [
    {
     "data": {
      "text/plain": [
       "array([ 0.   ,  3.125,  6.25 ,  9.375, 12.5  , 15.625, 18.75 , 21.875,\n",
       "       25.   ])"
      ]
     },
     "execution_count": 29,
     "metadata": {},
     "output_type": "execute_result"
    }
   ],
   "source": [
    "#.linspace(starring number, ending number, how many numbers you want)\n",
    "# The numbers it returns are all evenly spaced on an interval of 25\n",
    "L = np.linspace(0,25,9)\n",
    "L"
   ]
  },
  {
   "cell_type": "code",
   "execution_count": 30,
   "id": "427a6704",
   "metadata": {},
   "outputs": [
    {
     "data": {
      "text/plain": [
       "array([ 0.        ,  0.71428571,  1.42857143,  2.14285714,  2.85714286,\n",
       "        3.57142857,  4.28571429,  5.        ,  5.71428571,  6.42857143,\n",
       "        7.14285714,  7.85714286,  8.57142857,  9.28571429, 10.        ,\n",
       "       10.71428571, 11.42857143, 12.14285714, 12.85714286, 13.57142857,\n",
       "       14.28571429, 15.        , 15.71428571, 16.42857143, 17.14285714,\n",
       "       17.85714286, 18.57142857, 19.28571429, 20.        , 20.71428571,\n",
       "       21.42857143, 22.14285714, 22.85714286, 23.57142857, 24.28571429,\n",
       "       25.        ])"
      ]
     },
     "execution_count": 30,
     "metadata": {},
     "output_type": "execute_result"
    }
   ],
   "source": [
    "R = np.linspace(0,25,36)\n",
    "R"
   ]
  },
  {
   "cell_type": "code",
   "execution_count": 32,
   "id": "9c18f1db",
   "metadata": {},
   "outputs": [
    {
     "data": {
      "text/plain": [
       "array([[ 0.   ,  3.125,  6.25 ],\n",
       "       [ 9.375, 12.5  , 15.625],\n",
       "       [18.75 , 21.875, 25.   ]])"
      ]
     },
     "execution_count": 32,
     "metadata": {},
     "output_type": "execute_result"
    }
   ],
   "source": [
    "#reshape makes the linspace a matrix, the amount of numbers you want(third argument), must equal the amount of spaces in the matrix\n",
    "#i.e making a 3 by 3 matrix using a linspace the linapce must have 9 elements.\n",
    "L3 = L.reshape(3,3)\n",
    "L3"
   ]
  },
  {
   "cell_type": "code",
   "execution_count": 33,
   "id": "4f02b392",
   "metadata": {},
   "outputs": [
    {
     "data": {
      "text/plain": [
       "array([[1., 0.],\n",
       "       [0., 1.]])"
      ]
     },
     "execution_count": 33,
     "metadata": {},
     "output_type": "execute_result"
    }
   ],
   "source": [
    "#eye creates an identity matrix\n",
    "I2 = np.eye(2)\n",
    "I2"
   ]
  },
  {
   "cell_type": "code",
   "execution_count": 35,
   "id": "679b6021",
   "metadata": {},
   "outputs": [
    {
     "data": {
      "text/plain": [
       "array([[1., 0., 0., 0.],\n",
       "       [0., 1., 0., 0.],\n",
       "       [0., 0., 1., 0.],\n",
       "       [0., 0., 0., 1.]])"
      ]
     },
     "execution_count": 35,
     "metadata": {},
     "output_type": "execute_result"
    }
   ],
   "source": [
    "I4 = np.eye(4)\n",
    "I4"
   ]
  },
  {
   "cell_type": "code",
   "execution_count": 36,
   "id": "9b0fb379",
   "metadata": {},
   "outputs": [
    {
     "data": {
      "text/plain": [
       "array([[1., 0., 0.],\n",
       "       [0., 1., 0.],\n",
       "       [0., 0., 1.],\n",
       "       [0., 0., 0.]])"
      ]
     },
     "execution_count": 36,
     "metadata": {},
     "output_type": "execute_result"
    }
   ],
   "source": [
    "#creates a 4 by 3 identity matrix\n",
    "I43 = np.eye(4,3)\n",
    "I43"
   ]
  },
  {
   "cell_type": "code",
   "execution_count": 39,
   "id": "eccbaaa1",
   "metadata": {},
   "outputs": [
    {
     "data": {
      "text/plain": [
       "array([[1., 0.],\n",
       "       [0., 1.]])"
      ]
     },
     "execution_count": 39,
     "metadata": {},
     "output_type": "execute_result"
    }
   ],
   "source": [
    "#grabing a colum from the Identity matrix\n",
    "# same as grabbing items from a matrix\n",
    "I43[0:2,0:2]"
   ]
  },
  {
   "cell_type": "code",
   "execution_count": 40,
   "id": "fea6b26e",
   "metadata": {},
   "outputs": [],
   "source": [
    "import random"
   ]
  },
  {
   "cell_type": "code",
   "execution_count": 42,
   "id": "e4b2c7b3",
   "metadata": {},
   "outputs": [
    {
     "data": {
      "text/plain": [
       "array([[0.00351102, 0.11419786, 0.51127875, 0.86126816],\n",
       "       [0.77189451, 0.10778949, 0.30775553, 0.86118743],\n",
       "       [0.55020255, 0.68103387, 0.17342623, 0.74383763]])"
      ]
     },
     "execution_count": 42,
     "metadata": {},
     "output_type": "execute_result"
    }
   ],
   "source": [
    "#rand creates an array or matrix of a given shape with random samples of a given distribution between [0,1)\n",
    "arr = np.random.rand(3,4)\n",
    "arr"
   ]
  },
  {
   "cell_type": "code",
   "execution_count": 43,
   "id": "2265ad84",
   "metadata": {},
   "outputs": [],
   "source": [
    "from numpy.random import rand #simplyfies declararation of rand"
   ]
  },
  {
   "cell_type": "code",
   "execution_count": 45,
   "id": "5347ba1b",
   "metadata": {},
   "outputs": [
    {
     "data": {
      "text/plain": [
       "array([[0.49265832, 0.7911863 , 0.68979333, 0.76518703],\n",
       "       [0.3397335 , 0.09379725, 0.03260581, 0.43817691],\n",
       "       [0.8048667 , 0.7568558 , 0.70134458, 0.07639982]])"
      ]
     },
     "execution_count": 45,
     "metadata": {},
     "output_type": "execute_result"
    }
   ],
   "source": [
    "arr_simple = rand(3,4)\n",
    "arr_simple"
   ]
  },
  {
   "cell_type": "code",
   "execution_count": 47,
   "id": "34149ee7",
   "metadata": {},
   "outputs": [],
   "source": [
    "#randn does the same thing as rand but uses the standard normal distribution.\n",
    "from numpy.random import randn"
   ]
  },
  {
   "cell_type": "code",
   "execution_count": 49,
   "id": "1c899f86",
   "metadata": {},
   "outputs": [
    {
     "data": {
      "text/plain": [
       "array([[-1.78715719, -1.35572161],\n",
       "       [-1.71527438,  0.07302505],\n",
       "       [-0.33405748, -0.39365262]])"
      ]
     },
     "execution_count": 49,
     "metadata": {},
     "output_type": "execute_result"
    }
   ],
   "source": [
    "mat = randn(3,2)\n",
    "mat"
   ]
  },
  {
   "cell_type": "code",
   "execution_count": 50,
   "id": "94fb1ae4",
   "metadata": {},
   "outputs": [
    {
     "data": {
      "text/plain": [
       "[0, 1, 2, 3, 4]"
      ]
     },
     "execution_count": 50,
     "metadata": {},
     "output_type": "execute_result"
    }
   ],
   "source": [
    "#lambda expressions\n",
    "seq = [i for i in range(5)]\n",
    "seq"
   ]
  },
  {
   "cell_type": "code",
   "execution_count": 53,
   "id": "67c9523c",
   "metadata": {},
   "outputs": [
    {
     "data": {
      "text/plain": [
       "'sucyy'"
      ]
     },
     "execution_count": 53,
     "metadata": {},
     "output_type": "execute_result"
    }
   ],
   "source": [
    "l = lambda x: x.split('@')[0] \n",
    "l(\"sucyy@gmail.com\")"
   ]
  },
  {
   "cell_type": "code",
   "execution_count": null,
   "id": "25221b0d",
   "metadata": {},
   "outputs": [],
   "source": []
  }
 ],
 "metadata": {
  "kernelspec": {
   "display_name": "Python 3 (ipykernel)",
   "language": "python",
   "name": "python3"
  },
  "language_info": {
   "codemirror_mode": {
    "name": "ipython",
    "version": 3
   },
   "file_extension": ".py",
   "mimetype": "text/x-python",
   "name": "python",
   "nbconvert_exporter": "python",
   "pygments_lexer": "ipython3",
   "version": "3.9.12"
  }
 },
 "nbformat": 4,
 "nbformat_minor": 5
}
