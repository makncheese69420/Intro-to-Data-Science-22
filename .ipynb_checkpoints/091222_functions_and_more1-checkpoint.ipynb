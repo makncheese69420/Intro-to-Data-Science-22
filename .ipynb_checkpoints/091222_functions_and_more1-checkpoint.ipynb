{
 "cells": [
  {
   "cell_type": "markdown",
   "id": "eef35a87",
   "metadata": {},
   "source": [
    "* Bsic Operations\n",
    "     * Comparison Operators\n",
    "     * if, elif, else ststements\n",
    "     * for loops\n",
    "     * while loops\n",
    "     * range()\n",
    "     * list comprehension\n",
    "     * functions\n",
    "     * lambda expressions\n",
    "     * map and filter"
   ]
  },
  {
   "cell_type": "markdown",
   "id": "8d8cbb92",
   "metadata": {},
   "source": [
    "* ## Range()"
   ]
  },
  {
   "cell_type": "code",
   "execution_count": 1,
   "id": "541c7aaf",
   "metadata": {},
   "outputs": [
    {
     "data": {
      "text/plain": [
       "range(1, 11)"
      ]
     },
     "execution_count": 1,
     "metadata": {},
     "output_type": "execute_result"
    }
   ],
   "source": [
    "range(1,11) # This will return 1,2,3,4,5,6,7,8,9,10\n",
    "#Will return Numbers between 1 includ and 11 excluded\n"
   ]
  },
  {
   "cell_type": "code",
   "execution_count": 2,
   "id": "ebcac101",
   "metadata": {},
   "outputs": [
    {
     "data": {
      "text/plain": [
       "range(1, 11, 2)"
      ]
     },
     "execution_count": 2,
     "metadata": {},
     "output_type": "execute_result"
    }
   ],
   "source": [
    "range(1,11,2) # This will return 1,3,5,7,9"
   ]
  },
  {
   "cell_type": "code",
   "execution_count": 3,
   "id": "81af1001",
   "metadata": {},
   "outputs": [
    {
     "name": "stdout",
     "output_type": "stream",
     "text": [
      "1\n",
      "2\n",
      "3\n",
      "4\n",
      "5\n",
      "6\n",
      "7\n",
      "8\n",
      "9\n",
      "10\n"
     ]
    }
   ],
   "source": [
    "for num in range(1,11):\n",
    "    print(num)"
   ]
  },
  {
   "cell_type": "code",
   "execution_count": 4,
   "id": "04f312df",
   "metadata": {},
   "outputs": [
    {
     "name": "stdout",
     "output_type": "stream",
     "text": [
      "1\n",
      "2\n",
      "3\n",
      "4\n",
      "5\n",
      "6\n",
      "7\n",
      "8\n",
      "9\n",
      "10\n"
     ]
    }
   ],
   "source": [
    "for _ in range(1,11):\n",
    "    print(_)"
   ]
  },
  {
   "cell_type": "code",
   "execution_count": 5,
   "id": "5c963643",
   "metadata": {},
   "outputs": [
    {
     "name": "stdout",
     "output_type": "stream",
     "text": [
      "1\n",
      "3\n",
      "5\n",
      "7\n",
      "9\n",
      "11\n"
     ]
    }
   ],
   "source": [
    "for num in range(1,12,2):\n",
    "    print(num)"
   ]
  },
  {
   "cell_type": "code",
   "execution_count": 6,
   "id": "c4271e02",
   "metadata": {},
   "outputs": [
    {
     "name": "stdout",
     "output_type": "stream",
     "text": [
      "1\n",
      "9\n",
      "25\n",
      "49\n",
      "81\n",
      "121\n"
     ]
    }
   ],
   "source": [
    "for num in range(1,12,2):\n",
    "    print(num**2)"
   ]
  },
  {
   "cell_type": "code",
   "execution_count": 7,
   "id": "57ecc2eb",
   "metadata": {},
   "outputs": [
    {
     "name": "stdout",
     "output_type": "stream",
     "text": [
      "Odd number\n",
      "Even number\n",
      "Odd number\n",
      "Even number\n"
     ]
    }
   ],
   "source": [
    "for num in range(1,11,3):\n",
    "    if num % 2== 0:\n",
    "        print('Even number')\n",
    "    else:\n",
    "        print('Odd number')"
   ]
  },
  {
   "cell_type": "markdown",
   "id": "6876d4a8",
   "metadata": {},
   "source": [
    "* ## While loop"
   ]
  },
  {
   "cell_type": "code",
   "execution_count": 8,
   "id": "e19871b4",
   "metadata": {},
   "outputs": [
    {
     "name": "stdout",
     "output_type": "stream",
     "text": [
      "Odd number\n",
      "Even number\n",
      "Odd number\n",
      "Even number\n",
      "Odd number\n",
      "Even number\n",
      "Odd number\n",
      "Even number\n",
      "Odd number\n",
      "Even number\n"
     ]
    }
   ],
   "source": [
    "num = 1\n",
    "while num <11:\n",
    "    if num %2 != 0:\n",
    "        print('Odd number')\n",
    "    else:\n",
    "        print('Even number')\n",
    "    num = num+1"
   ]
  },
  {
   "cell_type": "markdown",
   "id": "0955ddef",
   "metadata": {},
   "source": [
    "* # List Comprehension"
   ]
  },
  {
   "cell_type": "code",
   "execution_count": 9,
   "id": "d9b6efbc",
   "metadata": {},
   "outputs": [
    {
     "name": "stdout",
     "output_type": "stream",
     "text": [
      "Odd number\n",
      "Even number\n",
      "Odd number\n",
      "Even number\n"
     ]
    }
   ],
   "source": [
    "for num in range(1,11,3):\n",
    "    if num % 2== 0:\n",
    "        print('Even number')\n",
    "    else:\n",
    "        print('Odd number')"
   ]
  },
  {
   "cell_type": "code",
   "execution_count": 10,
   "id": "1bca9fc2",
   "metadata": {},
   "outputs": [
    {
     "name": "stdout",
     "output_type": "stream",
     "text": [
      "Even Number\n",
      "Odd number\n",
      "Even Number\n",
      "Odd number\n",
      "Even Number\n",
      "Odd number\n",
      "Even Number\n",
      "Odd number\n",
      "Even Number\n",
      "Odd number\n",
      "Even Number\n"
     ]
    }
   ],
   "source": [
    "w_list=[print('Even Number') if num %2 == 0 else print('Odd number') for num in range(11)]"
   ]
  },
  {
   "cell_type": "code",
   "execution_count": 11,
   "id": "49012606",
   "metadata": {},
   "outputs": [
    {
     "data": {
      "text/plain": [
       "[None, None, None, None, None, None, None, None, None, None, None]"
      ]
     },
     "execution_count": 11,
     "metadata": {},
     "output_type": "execute_result"
    }
   ],
   "source": [
    "w_list"
   ]
  },
  {
   "cell_type": "code",
   "execution_count": 12,
   "id": "3458cac9",
   "metadata": {},
   "outputs": [
    {
     "name": "stdout",
     "output_type": "stream",
     "text": [
      "[1, 4, 9, 16, 25, 36, 49, 64, 81, 100]\n"
     ]
    }
   ],
   "source": [
    "my_list= []\n",
    "for num in range(1,11,1):\n",
    "    my_list.append(num**2)\n",
    "    num += 1\n",
    "print(my_list)"
   ]
  },
  {
   "cell_type": "code",
   "execution_count": 13,
   "id": "c2de0a39",
   "metadata": {},
   "outputs": [
    {
     "data": {
      "text/plain": [
       "[0, 1, 4, 9, 16, 25, 36, 49, 64, 81, 100]"
      ]
     },
     "execution_count": 13,
     "metadata": {},
     "output_type": "execute_result"
    }
   ],
   "source": [
    "[num**2  for num in range(11)]"
   ]
  },
  {
   "cell_type": "code",
   "execution_count": 14,
   "id": "9fae42b7",
   "metadata": {},
   "outputs": [
    {
     "data": {
      "text/plain": [
       "[[0, 3, 6, 9], [0, 3, 6, 9], [0, 3, 6, 9], [0, 3, 6, 9], [0, 3, 6, 9]]"
      ]
     },
     "execution_count": 14,
     "metadata": {},
     "output_type": "execute_result"
    }
   ],
   "source": [
    "[[num*3 for num in range(4)] for num in range(5)]"
   ]
  },
  {
   "cell_type": "markdown",
   "id": "cab1ec04",
   "metadata": {},
   "source": [
    "* ## Dictionary comprehension"
   ]
  },
  {
   "cell_type": "code",
   "execution_count": 15,
   "id": "08208c3d",
   "metadata": {},
   "outputs": [],
   "source": [
    "name = ['Moussa','Sall','Idris','George']"
   ]
  },
  {
   "cell_type": "code",
   "execution_count": 16,
   "id": "2d9fbe0f",
   "metadata": {},
   "outputs": [],
   "source": [
    "dico = {k:v for k,v in enumerate(name)}"
   ]
  },
  {
   "cell_type": "code",
   "execution_count": 17,
   "id": "22e12342",
   "metadata": {},
   "outputs": [
    {
     "data": {
      "text/plain": [
       "{0: 'Moussa', 1: 'Sall', 2: 'Idris', 3: 'George'}"
      ]
     },
     "execution_count": 17,
     "metadata": {},
     "output_type": "execute_result"
    }
   ],
   "source": [
    "dico"
   ]
  },
  {
   "cell_type": "code",
   "execution_count": 18,
   "id": "4d89360b",
   "metadata": {},
   "outputs": [],
   "source": [
    "gpa = [4,3.9,3.8,3.5]"
   ]
  },
  {
   "cell_type": "code",
   "execution_count": 19,
   "id": "c1c19669",
   "metadata": {},
   "outputs": [
    {
     "data": {
      "text/plain": [
       "{'Moussa': 4, 'Sall': 3.9, 'Idris': 3.8, 'George': 3.5}"
      ]
     },
     "execution_count": 19,
     "metadata": {},
     "output_type": "execute_result"
    }
   ],
   "source": [
    "name_gpg = {k:v for k,v in zip(name,gpa)}\n",
    "name_gpg"
   ]
  },
  {
   "cell_type": "code",
   "execution_count": 20,
   "id": "27bd1897",
   "metadata": {},
   "outputs": [],
   "source": [
    "def quare_roots_func(num):\n",
    "    result = num**0.5\n",
    "    return result"
   ]
  },
  {
   "cell_type": "code",
   "execution_count": 21,
   "id": "59a4c94e",
   "metadata": {},
   "outputs": [
    {
     "data": {
      "text/plain": [
       "1.4142135623730951"
      ]
     },
     "execution_count": 21,
     "metadata": {},
     "output_type": "execute_result"
    }
   ],
   "source": [
    "quare_roots_func(2)"
   ]
  },
  {
   "cell_type": "code",
   "execution_count": 22,
   "id": "f2347069",
   "metadata": {},
   "outputs": [
    {
     "name": "stdout",
     "output_type": "stream",
     "text": [
      "[1, 4, 9, 16, 25, 36, 49, 64, 81, 100]\n"
     ]
    }
   ],
   "source": [
    "my_list= []\n",
    "for num in range(1,11,1):\n",
    "    my_list.append(num**2)\n",
    "    num += 1\n",
    "print(my_list)"
   ]
  },
  {
   "cell_type": "code",
   "execution_count": 23,
   "id": "69706097",
   "metadata": {},
   "outputs": [],
   "source": [
    "def square_func(val):\n",
    "    my_list = []\n",
    "    for val in range(1,11):\n",
    "        my_list.append(val**2)\n",
    "        val = val+1\n",
    "    return my_list"
   ]
  },
  {
   "cell_type": "code",
   "execution_count": null,
   "id": "7f9d4aae",
   "metadata": {},
   "outputs": [],
   "source": []
  },
  {
   "cell_type": "code",
   "execution_count": 24,
   "id": "07f9c76c",
   "metadata": {},
   "outputs": [
    {
     "data": {
      "text/plain": [
       "[1, 4, 9, 16, 25, 36, 49, 64, 81, 100]"
      ]
     },
     "execution_count": 24,
     "metadata": {},
     "output_type": "execute_result"
    }
   ],
   "source": [
    "my_list"
   ]
  },
  {
   "cell_type": "code",
   "execution_count": 25,
   "id": "b7af9f9e",
   "metadata": {},
   "outputs": [],
   "source": [
    "mylist = [2,-5,10,21,-17,55,-0.5,-78]"
   ]
  },
  {
   "cell_type": "code",
   "execution_count": 26,
   "id": "cc387f36",
   "metadata": {},
   "outputs": [],
   "source": [
    "#list(enumerate(mylist))"
   ]
  },
  {
   "cell_type": "code",
   "execution_count": 27,
   "id": "ffce4485",
   "metadata": {},
   "outputs": [],
   "source": [
    "def replace_by_zero(mylist):\n",
    "    for idx, num in enumerate(mylist):\n",
    "        if num < 0:\n",
    "            mylist[idx] = 0\n",
    "    return mylist"
   ]
  },
  {
   "cell_type": "code",
   "execution_count": 28,
   "id": "3cc51cbc",
   "metadata": {},
   "outputs": [
    {
     "data": {
      "text/plain": [
       "[2, -5, 10, 21, -17, 55, -0.5, -78]"
      ]
     },
     "execution_count": 28,
     "metadata": {},
     "output_type": "execute_result"
    }
   ],
   "source": [
    "mylist"
   ]
  },
  {
   "cell_type": "code",
   "execution_count": 29,
   "id": "7005ced5",
   "metadata": {},
   "outputs": [
    {
     "data": {
      "text/plain": [
       "[2, 0, 10, 21, 0, 55, 0, 0]"
      ]
     },
     "execution_count": 29,
     "metadata": {},
     "output_type": "execute_result"
    }
   ],
   "source": [
    "replace_by_zero(mylist)"
   ]
  },
  {
   "cell_type": "code",
   "execution_count": 30,
   "id": "bd9bf2c5",
   "metadata": {},
   "outputs": [],
   "source": [
    "# 7 = 7x6x5x4x3x2x1\n",
    "def factoriel_func(num):\n",
    "    p = 1\n",
    "    i = 1\n",
    "    while i <= num:\n",
    "        p *= i\n",
    "        i += 1\n",
    "    return p\n",
    "    "
   ]
  },
  {
   "cell_type": "code",
   "execution_count": 31,
   "id": "3b5f28f8",
   "metadata": {},
   "outputs": [
    {
     "data": {
      "text/plain": [
       "5040"
      ]
     },
     "execution_count": 31,
     "metadata": {},
     "output_type": "execute_result"
    }
   ],
   "source": [
    "factoriel_func(7)"
   ]
  },
  {
   "cell_type": "markdown",
   "id": "fac2e831",
   "metadata": {},
   "source": [
    "* # Lambda expressions"
   ]
  },
  {
   "cell_type": "code",
   "execution_count": 32,
   "id": "e95ba62a",
   "metadata": {},
   "outputs": [],
   "source": [
    "def squares(num):\n",
    "    result = num**2\n",
    "    return result"
   ]
  },
  {
   "cell_type": "code",
   "execution_count": 33,
   "id": "57196969",
   "metadata": {},
   "outputs": [
    {
     "data": {
      "text/plain": [
       "36"
      ]
     },
     "execution_count": 33,
     "metadata": {},
     "output_type": "execute_result"
    }
   ],
   "source": [
    "squares(6)"
   ]
  },
  {
   "cell_type": "code",
   "execution_count": 34,
   "id": "ebf71dea",
   "metadata": {},
   "outputs": [],
   "source": [
    "l = lambda num: num*3"
   ]
  },
  {
   "cell_type": "code",
   "execution_count": 35,
   "id": "39cf0446",
   "metadata": {},
   "outputs": [
    {
     "data": {
      "text/plain": [
       "18"
      ]
     },
     "execution_count": 35,
     "metadata": {},
     "output_type": "execute_result"
    }
   ],
   "source": [
    "l(6)"
   ]
  },
  {
   "cell_type": "code",
   "execution_count": 36,
   "id": "50681605",
   "metadata": {},
   "outputs": [],
   "source": [
    "a_list = [-1,4,-5,6,7,-11,20,21,33,-77]"
   ]
  },
  {
   "cell_type": "code",
   "execution_count": 37,
   "id": "b967937d",
   "metadata": {},
   "outputs": [
    {
     "ename": "NameError",
     "evalue": "name 'ano_list' is not defined",
     "output_type": "error",
     "traceback": [
      "\u001b[1;31m---------------------------------------------------------------------------\u001b[0m",
      "\u001b[1;31mNameError\u001b[0m                                 Traceback (most recent call last)",
      "Input \u001b[1;32mIn [37]\u001b[0m, in \u001b[0;36m<cell line: 1>\u001b[1;34m()\u001b[0m\n\u001b[1;32m----> 1\u001b[0m \u001b[38;5;28mlist\u001b[39m(\u001b[38;5;28mmap\u001b[39m(l,\u001b[43mano_list\u001b[49m))\n",
      "\u001b[1;31mNameError\u001b[0m: name 'ano_list' is not defined"
     ]
    }
   ],
   "source": [
    "list(map(l,ano_list))"
   ]
  },
  {
   "cell_type": "code",
   "execution_count": null,
   "id": "b48fb89b",
   "metadata": {},
   "outputs": [],
   "source": [
    "list(filter(lambda num: num %2 != 0, ano_list))"
   ]
  },
  {
   "cell_type": "code",
   "execution_count": null,
   "id": "43dfb5cc",
   "metadata": {},
   "outputs": [],
   "source": [
    "md_list = [2,12,-3,-5,17,22.0,99,-88]\n",
    "# Use map to replace the odd numbers by 0. \n",
    "#And use filter to return the non-negative number"
   ]
  },
  {
   "cell_type": "code",
   "execution_count": null,
   "id": "51c0acdc",
   "metadata": {},
   "outputs": [],
   "source": [
    "def rnge(alist):\n",
    "    for i in range(len(alist)):\n",
    "        if alist[i]%2 != 0:\n",
    "            alist[i] = 0\n",
    "    return alist"
   ]
  },
  {
   "cell_type": "code",
   "execution_count": null,
   "id": "b79dadc8",
   "metadata": {},
   "outputs": [],
   "source": []
  },
  {
   "cell_type": "code",
   "execution_count": null,
   "id": "9317fc06",
   "metadata": {},
   "outputs": [],
   "source": []
  },
  {
   "cell_type": "code",
   "execution_count": null,
   "id": "d8786aec",
   "metadata": {},
   "outputs": [],
   "source": [
    "a_list[1]"
   ]
  },
  {
   "cell_type": "code",
   "execution_count": null,
   "id": "fa83d391",
   "metadata": {},
   "outputs": [],
   "source": []
  }
 ],
 "metadata": {
  "kernelspec": {
   "display_name": "Python 3 (ipykernel)",
   "language": "python",
   "name": "python3"
  },
  "language_info": {
   "codemirror_mode": {
    "name": "ipython",
    "version": 3
   },
   "file_extension": ".py",
   "mimetype": "text/x-python",
   "name": "python",
   "nbconvert_exporter": "python",
   "pygments_lexer": "ipython3",
   "version": "3.9.12"
  }
 },
 "nbformat": 4,
 "nbformat_minor": 5
}
