{
 "cells": [
  {
   "cell_type": "code",
   "execution_count": 1,
   "id": "15599641",
   "metadata": {},
   "outputs": [],
   "source": [
    "import pandas as pd\n",
    "import numpy as np\n",
    "from numpy.random import randn\n",
    "import string"
   ]
  },
  {
   "cell_type": "markdown",
   "id": "509eda97",
   "metadata": {},
   "source": [
    "* ### Series is just single colum of data"
   ]
  },
  {
   "cell_type": "code",
   "execution_count": 2,
   "id": "309e638a",
   "metadata": {},
   "outputs": [
    {
     "data": {
      "text/plain": [
       "[0, 1, 2, 3, 4, 5, 6, 7, 8, 9]"
      ]
     },
     "execution_count": 2,
     "metadata": {},
     "output_type": "execute_result"
    }
   ],
   "source": [
    "data1 = [i for i in range(10)]\n",
    "data1"
   ]
  },
  {
   "cell_type": "code",
   "execution_count": 3,
   "id": "f188f7bf",
   "metadata": {},
   "outputs": [
    {
     "name": "stdout",
     "output_type": "stream",
     "text": [
      "['A', 'B', 'C', 'D', 'E', 'F', 'G', 'H', 'I', 'J', 'K', 'L', 'M', 'N', 'O', 'P', 'Q', 'R', 'S', 'T', 'U', 'V', 'W', 'X', 'Y', 'Z']\n"
     ]
    }
   ],
   "source": [
    "alphalist = list(string.ascii_uppercase)\n",
    "print(alphalist)"
   ]
  },
  {
   "cell_type": "code",
   "execution_count": 4,
   "id": "1e381786",
   "metadata": {},
   "outputs": [
    {
     "data": {
      "text/plain": [
       "['A', 'B', 'C', 'D', 'E', 'F', 'G', 'H', 'I', 'J']"
      ]
     },
     "execution_count": 4,
     "metadata": {},
     "output_type": "execute_result"
    }
   ],
   "source": [
    "index1 = [alphalist[i] for i in range(10)]\n",
    "index1"
   ]
  },
  {
   "cell_type": "code",
   "execution_count": 5,
   "id": "a27064ba",
   "metadata": {},
   "outputs": [
    {
     "data": {
      "text/plain": [
       "A    0\n",
       "B    1\n",
       "C    2\n",
       "D    3\n",
       "E    4\n",
       "F    5\n",
       "G    6\n",
       "H    7\n",
       "I    8\n",
       "J    9\n",
       "dtype: int64"
      ]
     },
     "execution_count": 5,
     "metadata": {},
     "output_type": "execute_result"
    }
   ],
   "source": [
    "serie1 = pd.Series(data=data1,index=index1)\n",
    "serie1"
   ]
  },
  {
   "cell_type": "code",
   "execution_count": 6,
   "id": "9b797e6a",
   "metadata": {},
   "outputs": [],
   "source": [
    "dico = {k:v for k,v in zip(index1,data1) }"
   ]
  },
  {
   "cell_type": "code",
   "execution_count": 7,
   "id": "32d21ea3",
   "metadata": {
    "scrolled": true
   },
   "outputs": [
    {
     "data": {
      "text/plain": [
       "A    0\n",
       "B    1\n",
       "C    2\n",
       "D    3\n",
       "E    4\n",
       "F    5\n",
       "G    6\n",
       "H    7\n",
       "I    8\n",
       "J    9\n",
       "dtype: int64"
      ]
     },
     "execution_count": 7,
     "metadata": {},
     "output_type": "execute_result"
    }
   ],
   "source": [
    "serie2 = pd.Series(dico)\n",
    "serie2"
   ]
  },
  {
   "cell_type": "code",
   "execution_count": 8,
   "id": "37c8ccc0",
   "metadata": {
    "scrolled": false
   },
   "outputs": [
    {
     "data": {
      "text/html": [
       "<div>\n",
       "<style scoped>\n",
       "    .dataframe tbody tr th:only-of-type {\n",
       "        vertical-align: middle;\n",
       "    }\n",
       "\n",
       "    .dataframe tbody tr th {\n",
       "        vertical-align: top;\n",
       "    }\n",
       "\n",
       "    .dataframe thead th {\n",
       "        text-align: right;\n",
       "    }\n",
       "</style>\n",
       "<table border=\"1\" class=\"dataframe\">\n",
       "  <thead>\n",
       "    <tr style=\"text-align: right;\">\n",
       "      <th></th>\n",
       "      <th>V</th>\n",
       "      <th>W</th>\n",
       "      <th>X</th>\n",
       "      <th>Y</th>\n",
       "      <th>Z</th>\n",
       "    </tr>\n",
       "  </thead>\n",
       "  <tbody>\n",
       "    <tr>\n",
       "      <th>A</th>\n",
       "      <td>0.478029</td>\n",
       "      <td>0.222275</td>\n",
       "      <td>-1.713991</td>\n",
       "      <td>-0.289055</td>\n",
       "      <td>-1.472209</td>\n",
       "    </tr>\n",
       "    <tr>\n",
       "      <th>B</th>\n",
       "      <td>1.998814</td>\n",
       "      <td>-0.068745</td>\n",
       "      <td>-0.398577</td>\n",
       "      <td>-1.836231</td>\n",
       "      <td>-1.500615</td>\n",
       "    </tr>\n",
       "    <tr>\n",
       "      <th>C</th>\n",
       "      <td>-0.165022</td>\n",
       "      <td>-0.462716</td>\n",
       "      <td>1.491018</td>\n",
       "      <td>0.328102</td>\n",
       "      <td>0.245732</td>\n",
       "    </tr>\n",
       "    <tr>\n",
       "      <th>D</th>\n",
       "      <td>-1.382323</td>\n",
       "      <td>1.129531</td>\n",
       "      <td>1.422767</td>\n",
       "      <td>-0.731570</td>\n",
       "      <td>-0.492096</td>\n",
       "    </tr>\n",
       "    <tr>\n",
       "      <th>E</th>\n",
       "      <td>0.182690</td>\n",
       "      <td>-0.009573</td>\n",
       "      <td>-0.193171</td>\n",
       "      <td>0.415882</td>\n",
       "      <td>-0.513913</td>\n",
       "    </tr>\n",
       "  </tbody>\n",
       "</table>\n",
       "</div>"
      ],
      "text/plain": [
       "          V         W         X         Y         Z\n",
       "A  0.478029  0.222275 -1.713991 -0.289055 -1.472209\n",
       "B  1.998814 -0.068745 -0.398577 -1.836231 -1.500615\n",
       "C -0.165022 -0.462716  1.491018  0.328102  0.245732\n",
       "D -1.382323  1.129531  1.422767 -0.731570 -0.492096\n",
       "E  0.182690 -0.009573 -0.193171  0.415882 -0.513913"
      ]
     },
     "execution_count": 8,
     "metadata": {},
     "output_type": "execute_result"
    }
   ],
   "source": [
    "df = pd.DataFrame(randn(5,5),index='A/B/C/D/E'.split('/'), columns='V/W/X/Y/Z'.split(\"/\"))\n",
    "df"
   ]
  },
  {
   "cell_type": "code",
   "execution_count": 24,
   "id": "a43baa34",
   "metadata": {},
   "outputs": [
    {
     "data": {
      "text/plain": [
       "X    1.422767\n",
       "Z   -0.492096\n",
       "Name: D, dtype: float64"
      ]
     },
     "execution_count": 24,
     "metadata": {},
     "output_type": "execute_result"
    }
   ],
   "source": [
    "df.loc['D'][['X','Z']]"
   ]
  },
  {
   "cell_type": "code",
   "execution_count": 27,
   "id": "8ea88a0e",
   "metadata": {
    "scrolled": true
   },
   "outputs": [
    {
     "data": {
      "text/plain": [
       "X    1.422767\n",
       "Z   -0.492096\n",
       "Name: D, dtype: float64"
      ]
     },
     "execution_count": 27,
     "metadata": {},
     "output_type": "execute_result"
    }
   ],
   "source": [
    "df[['X','Z']].loc['D']"
   ]
  },
  {
   "cell_type": "code",
   "execution_count": 28,
   "id": "bdc793ab",
   "metadata": {},
   "outputs": [
    {
     "data": {
      "text/plain": [
       "X    1.422767\n",
       "Z   -0.492096\n",
       "Name: D, dtype: float64"
      ]
     },
     "execution_count": 28,
     "metadata": {},
     "output_type": "execute_result"
    }
   ],
   "source": [
    "df[['X','Z']].iloc[3]"
   ]
  },
  {
   "cell_type": "code",
   "execution_count": 22,
   "id": "212725c1",
   "metadata": {},
   "outputs": [
    {
     "data": {
      "text/plain": [
       "-0.3985771471885359"
      ]
     },
     "execution_count": 22,
     "metadata": {},
     "output_type": "execute_result"
    }
   ],
   "source": [
    "df.iloc[1]['X']"
   ]
  },
  {
   "cell_type": "code",
   "execution_count": 21,
   "id": "fe46535d",
   "metadata": {},
   "outputs": [
    {
     "data": {
      "text/html": [
       "<div>\n",
       "<style scoped>\n",
       "    .dataframe tbody tr th:only-of-type {\n",
       "        vertical-align: middle;\n",
       "    }\n",
       "\n",
       "    .dataframe tbody tr th {\n",
       "        vertical-align: top;\n",
       "    }\n",
       "\n",
       "    .dataframe thead th {\n",
       "        text-align: right;\n",
       "    }\n",
       "</style>\n",
       "<table border=\"1\" class=\"dataframe\">\n",
       "  <thead>\n",
       "    <tr style=\"text-align: right;\">\n",
       "      <th></th>\n",
       "      <th>W</th>\n",
       "      <th>Y</th>\n",
       "    </tr>\n",
       "  </thead>\n",
       "  <tbody>\n",
       "    <tr>\n",
       "      <th>A</th>\n",
       "      <td>0.222275</td>\n",
       "      <td>-0.289055</td>\n",
       "    </tr>\n",
       "    <tr>\n",
       "      <th>B</th>\n",
       "      <td>-0.068745</td>\n",
       "      <td>-1.836231</td>\n",
       "    </tr>\n",
       "    <tr>\n",
       "      <th>C</th>\n",
       "      <td>-0.462716</td>\n",
       "      <td>0.328102</td>\n",
       "    </tr>\n",
       "    <tr>\n",
       "      <th>D</th>\n",
       "      <td>1.129531</td>\n",
       "      <td>-0.731570</td>\n",
       "    </tr>\n",
       "    <tr>\n",
       "      <th>E</th>\n",
       "      <td>-0.009573</td>\n",
       "      <td>0.415882</td>\n",
       "    </tr>\n",
       "  </tbody>\n",
       "</table>\n",
       "</div>"
      ],
      "text/plain": [
       "          W         Y\n",
       "A  0.222275 -0.289055\n",
       "B -0.068745 -1.836231\n",
       "C -0.462716  0.328102\n",
       "D  1.129531 -0.731570\n",
       "E -0.009573  0.415882"
      ]
     },
     "execution_count": 21,
     "metadata": {},
     "output_type": "execute_result"
    }
   ],
   "source": [
    "df[['W','Y']]"
   ]
  },
  {
   "cell_type": "code",
   "execution_count": 18,
   "id": "1166b171",
   "metadata": {},
   "outputs": [
    {
     "data": {
      "text/plain": [
       "V    0.478029\n",
       "W    0.222275\n",
       "X   -1.713991\n",
       "Y   -0.289055\n",
       "Z   -1.472209\n",
       "U   -0.994181\n",
       "Name: A, dtype: float64"
      ]
     },
     "execution_count": 18,
     "metadata": {},
     "output_type": "execute_result"
    }
   ],
   "source": [
    "df.iloc[0]"
   ]
  },
  {
   "cell_type": "code",
   "execution_count": 19,
   "id": "ef236242",
   "metadata": {},
   "outputs": [
    {
     "data": {
      "text/plain": [
       "V    0.478029\n",
       "W    0.222275\n",
       "X   -1.713991\n",
       "Y   -0.289055\n",
       "Z   -1.472209\n",
       "U   -0.994181\n",
       "Name: A, dtype: float64"
      ]
     },
     "execution_count": 19,
     "metadata": {},
     "output_type": "execute_result"
    }
   ],
   "source": [
    "df.loc['A']"
   ]
  },
  {
   "cell_type": "code",
   "execution_count": 9,
   "id": "3264b2ff",
   "metadata": {},
   "outputs": [
    {
     "data": {
      "text/html": [
       "<div>\n",
       "<style scoped>\n",
       "    .dataframe tbody tr th:only-of-type {\n",
       "        vertical-align: middle;\n",
       "    }\n",
       "\n",
       "    .dataframe tbody tr th {\n",
       "        vertical-align: top;\n",
       "    }\n",
       "\n",
       "    .dataframe thead th {\n",
       "        text-align: right;\n",
       "    }\n",
       "</style>\n",
       "<table border=\"1\" class=\"dataframe\">\n",
       "  <thead>\n",
       "    <tr style=\"text-align: right;\">\n",
       "      <th></th>\n",
       "      <th>V</th>\n",
       "      <th>X</th>\n",
       "    </tr>\n",
       "  </thead>\n",
       "  <tbody>\n",
       "    <tr>\n",
       "      <th>A</th>\n",
       "      <td>0.478029</td>\n",
       "      <td>-1.713991</td>\n",
       "    </tr>\n",
       "    <tr>\n",
       "      <th>B</th>\n",
       "      <td>1.998814</td>\n",
       "      <td>-0.398577</td>\n",
       "    </tr>\n",
       "    <tr>\n",
       "      <th>C</th>\n",
       "      <td>-0.165022</td>\n",
       "      <td>1.491018</td>\n",
       "    </tr>\n",
       "    <tr>\n",
       "      <th>D</th>\n",
       "      <td>-1.382323</td>\n",
       "      <td>1.422767</td>\n",
       "    </tr>\n",
       "    <tr>\n",
       "      <th>E</th>\n",
       "      <td>0.182690</td>\n",
       "      <td>-0.193171</td>\n",
       "    </tr>\n",
       "  </tbody>\n",
       "</table>\n",
       "</div>"
      ],
      "text/plain": [
       "          V         X\n",
       "A  0.478029 -1.713991\n",
       "B  1.998814 -0.398577\n",
       "C -0.165022  1.491018\n",
       "D -1.382323  1.422767\n",
       "E  0.182690 -0.193171"
      ]
     },
     "execution_count": 9,
     "metadata": {},
     "output_type": "execute_result"
    }
   ],
   "source": [
    "# Selecting Columns\n",
    "df[['V','X']]"
   ]
  },
  {
   "cell_type": "code",
   "execution_count": 10,
   "id": "f7695391",
   "metadata": {},
   "outputs": [
    {
     "data": {
      "text/html": [
       "<div>\n",
       "<style scoped>\n",
       "    .dataframe tbody tr th:only-of-type {\n",
       "        vertical-align: middle;\n",
       "    }\n",
       "\n",
       "    .dataframe tbody tr th {\n",
       "        vertical-align: top;\n",
       "    }\n",
       "\n",
       "    .dataframe thead th {\n",
       "        text-align: right;\n",
       "    }\n",
       "</style>\n",
       "<table border=\"1\" class=\"dataframe\">\n",
       "  <thead>\n",
       "    <tr style=\"text-align: right;\">\n",
       "      <th></th>\n",
       "      <th>W</th>\n",
       "      <th>Y</th>\n",
       "    </tr>\n",
       "  </thead>\n",
       "  <tbody>\n",
       "    <tr>\n",
       "      <th>A</th>\n",
       "      <td>0.222275</td>\n",
       "      <td>-0.289055</td>\n",
       "    </tr>\n",
       "    <tr>\n",
       "      <th>B</th>\n",
       "      <td>-0.068745</td>\n",
       "      <td>-1.836231</td>\n",
       "    </tr>\n",
       "    <tr>\n",
       "      <th>C</th>\n",
       "      <td>-0.462716</td>\n",
       "      <td>0.328102</td>\n",
       "    </tr>\n",
       "    <tr>\n",
       "      <th>D</th>\n",
       "      <td>1.129531</td>\n",
       "      <td>-0.731570</td>\n",
       "    </tr>\n",
       "    <tr>\n",
       "      <th>E</th>\n",
       "      <td>-0.009573</td>\n",
       "      <td>0.415882</td>\n",
       "    </tr>\n",
       "  </tbody>\n",
       "</table>\n",
       "</div>"
      ],
      "text/plain": [
       "          W         Y\n",
       "A  0.222275 -0.289055\n",
       "B -0.068745 -1.836231\n",
       "C -0.462716  0.328102\n",
       "D  1.129531 -0.731570\n",
       "E -0.009573  0.415882"
      ]
     },
     "execution_count": 10,
     "metadata": {},
     "output_type": "execute_result"
    }
   ],
   "source": [
    "df[['W','Y']]"
   ]
  },
  {
   "cell_type": "code",
   "execution_count": 11,
   "id": "00cf00c7",
   "metadata": {},
   "outputs": [
    {
     "data": {
      "text/plain": [
       "V    0.478029\n",
       "W    0.222275\n",
       "X   -1.713991\n",
       "Y   -0.289055\n",
       "Z   -1.472209\n",
       "Name: A, dtype: float64"
      ]
     },
     "execution_count": 11,
     "metadata": {},
     "output_type": "execute_result"
    }
   ],
   "source": [
    "# We use iloc to select a particular row\n",
    "df.iloc[0]"
   ]
  },
  {
   "cell_type": "code",
   "execution_count": 12,
   "id": "ca44d87e",
   "metadata": {},
   "outputs": [
    {
     "data": {
      "text/html": [
       "<div>\n",
       "<style scoped>\n",
       "    .dataframe tbody tr th:only-of-type {\n",
       "        vertical-align: middle;\n",
       "    }\n",
       "\n",
       "    .dataframe tbody tr th {\n",
       "        vertical-align: top;\n",
       "    }\n",
       "\n",
       "    .dataframe thead th {\n",
       "        text-align: right;\n",
       "    }\n",
       "</style>\n",
       "<table border=\"1\" class=\"dataframe\">\n",
       "  <thead>\n",
       "    <tr style=\"text-align: right;\">\n",
       "      <th></th>\n",
       "      <th>X</th>\n",
       "      <th>Z</th>\n",
       "    </tr>\n",
       "  </thead>\n",
       "  <tbody>\n",
       "    <tr>\n",
       "      <th>A</th>\n",
       "      <td>-1.713991</td>\n",
       "      <td>-1.472209</td>\n",
       "    </tr>\n",
       "    <tr>\n",
       "      <th>B</th>\n",
       "      <td>-0.398577</td>\n",
       "      <td>-1.500615</td>\n",
       "    </tr>\n",
       "  </tbody>\n",
       "</table>\n",
       "</div>"
      ],
      "text/plain": [
       "          X         Z\n",
       "A -1.713991 -1.472209\n",
       "B -0.398577 -1.500615"
      ]
     },
     "execution_count": 12,
     "metadata": {},
     "output_type": "execute_result"
    }
   ],
   "source": [
    "df[['X','Z']].loc[['A','B']]"
   ]
  },
  {
   "cell_type": "code",
   "execution_count": 13,
   "id": "aa7a0543",
   "metadata": {},
   "outputs": [
    {
     "data": {
      "text/html": [
       "<div>\n",
       "<style scoped>\n",
       "    .dataframe tbody tr th:only-of-type {\n",
       "        vertical-align: middle;\n",
       "    }\n",
       "\n",
       "    .dataframe tbody tr th {\n",
       "        vertical-align: top;\n",
       "    }\n",
       "\n",
       "    .dataframe thead th {\n",
       "        text-align: right;\n",
       "    }\n",
       "</style>\n",
       "<table border=\"1\" class=\"dataframe\">\n",
       "  <thead>\n",
       "    <tr style=\"text-align: right;\">\n",
       "      <th></th>\n",
       "      <th>V</th>\n",
       "      <th>W</th>\n",
       "      <th>X</th>\n",
       "      <th>Y</th>\n",
       "      <th>Z</th>\n",
       "    </tr>\n",
       "  </thead>\n",
       "  <tbody>\n",
       "    <tr>\n",
       "      <th>A</th>\n",
       "      <td>0.478029</td>\n",
       "      <td>0.222275</td>\n",
       "      <td>-1.713991</td>\n",
       "      <td>-0.289055</td>\n",
       "      <td>-1.472209</td>\n",
       "    </tr>\n",
       "    <tr>\n",
       "      <th>B</th>\n",
       "      <td>1.998814</td>\n",
       "      <td>-0.068745</td>\n",
       "      <td>-0.398577</td>\n",
       "      <td>-1.836231</td>\n",
       "      <td>-1.500615</td>\n",
       "    </tr>\n",
       "    <tr>\n",
       "      <th>C</th>\n",
       "      <td>-0.165022</td>\n",
       "      <td>-0.462716</td>\n",
       "      <td>1.491018</td>\n",
       "      <td>0.328102</td>\n",
       "      <td>0.245732</td>\n",
       "    </tr>\n",
       "  </tbody>\n",
       "</table>\n",
       "</div>"
      ],
      "text/plain": [
       "          V         W         X         Y         Z\n",
       "A  0.478029  0.222275 -1.713991 -0.289055 -1.472209\n",
       "B  1.998814 -0.068745 -0.398577 -1.836231 -1.500615\n",
       "C -0.165022 -0.462716  1.491018  0.328102  0.245732"
      ]
     },
     "execution_count": 13,
     "metadata": {},
     "output_type": "execute_result"
    }
   ],
   "source": [
    "df.loc[['A','B','C']]"
   ]
  },
  {
   "cell_type": "code",
   "execution_count": 14,
   "id": "1acbe9ba",
   "metadata": {},
   "outputs": [
    {
     "data": {
      "text/html": [
       "<div>\n",
       "<style scoped>\n",
       "    .dataframe tbody tr th:only-of-type {\n",
       "        vertical-align: middle;\n",
       "    }\n",
       "\n",
       "    .dataframe tbody tr th {\n",
       "        vertical-align: top;\n",
       "    }\n",
       "\n",
       "    .dataframe thead th {\n",
       "        text-align: right;\n",
       "    }\n",
       "</style>\n",
       "<table border=\"1\" class=\"dataframe\">\n",
       "  <thead>\n",
       "    <tr style=\"text-align: right;\">\n",
       "      <th></th>\n",
       "      <th>V</th>\n",
       "      <th>W</th>\n",
       "      <th>X</th>\n",
       "      <th>Y</th>\n",
       "      <th>Z</th>\n",
       "    </tr>\n",
       "  </thead>\n",
       "  <tbody>\n",
       "    <tr>\n",
       "      <th>A</th>\n",
       "      <td>0.478029</td>\n",
       "      <td>0.222275</td>\n",
       "      <td>-1.713991</td>\n",
       "      <td>-0.289055</td>\n",
       "      <td>-1.472209</td>\n",
       "    </tr>\n",
       "    <tr>\n",
       "      <th>D</th>\n",
       "      <td>-1.382323</td>\n",
       "      <td>1.129531</td>\n",
       "      <td>1.422767</td>\n",
       "      <td>-0.731570</td>\n",
       "      <td>-0.492096</td>\n",
       "    </tr>\n",
       "  </tbody>\n",
       "</table>\n",
       "</div>"
      ],
      "text/plain": [
       "          V         W         X         Y         Z\n",
       "A  0.478029  0.222275 -1.713991 -0.289055 -1.472209\n",
       "D -1.382323  1.129531  1.422767 -0.731570 -0.492096"
      ]
     },
     "execution_count": 14,
     "metadata": {},
     "output_type": "execute_result"
    }
   ],
   "source": [
    "df[df['W']> 0]"
   ]
  },
  {
   "cell_type": "code",
   "execution_count": 15,
   "id": "161dcedc",
   "metadata": {},
   "outputs": [],
   "source": [
    "df['U']  = df['V']+df['Z'] # adding new column to the data frame"
   ]
  },
  {
   "cell_type": "code",
   "execution_count": 16,
   "id": "9e3876af",
   "metadata": {},
   "outputs": [
    {
     "data": {
      "text/html": [
       "<div>\n",
       "<style scoped>\n",
       "    .dataframe tbody tr th:only-of-type {\n",
       "        vertical-align: middle;\n",
       "    }\n",
       "\n",
       "    .dataframe tbody tr th {\n",
       "        vertical-align: top;\n",
       "    }\n",
       "\n",
       "    .dataframe thead th {\n",
       "        text-align: right;\n",
       "    }\n",
       "</style>\n",
       "<table border=\"1\" class=\"dataframe\">\n",
       "  <thead>\n",
       "    <tr style=\"text-align: right;\">\n",
       "      <th></th>\n",
       "      <th>V</th>\n",
       "      <th>W</th>\n",
       "      <th>X</th>\n",
       "      <th>Y</th>\n",
       "      <th>Z</th>\n",
       "      <th>U</th>\n",
       "    </tr>\n",
       "  </thead>\n",
       "  <tbody>\n",
       "    <tr>\n",
       "      <th>A</th>\n",
       "      <td>0.478029</td>\n",
       "      <td>0.222275</td>\n",
       "      <td>-1.713991</td>\n",
       "      <td>-0.289055</td>\n",
       "      <td>-1.472209</td>\n",
       "      <td>-0.994181</td>\n",
       "    </tr>\n",
       "    <tr>\n",
       "      <th>B</th>\n",
       "      <td>1.998814</td>\n",
       "      <td>-0.068745</td>\n",
       "      <td>-0.398577</td>\n",
       "      <td>-1.836231</td>\n",
       "      <td>-1.500615</td>\n",
       "      <td>0.498200</td>\n",
       "    </tr>\n",
       "    <tr>\n",
       "      <th>C</th>\n",
       "      <td>-0.165022</td>\n",
       "      <td>-0.462716</td>\n",
       "      <td>1.491018</td>\n",
       "      <td>0.328102</td>\n",
       "      <td>0.245732</td>\n",
       "      <td>0.080710</td>\n",
       "    </tr>\n",
       "    <tr>\n",
       "      <th>D</th>\n",
       "      <td>-1.382323</td>\n",
       "      <td>1.129531</td>\n",
       "      <td>1.422767</td>\n",
       "      <td>-0.731570</td>\n",
       "      <td>-0.492096</td>\n",
       "      <td>-1.874419</td>\n",
       "    </tr>\n",
       "    <tr>\n",
       "      <th>E</th>\n",
       "      <td>0.182690</td>\n",
       "      <td>-0.009573</td>\n",
       "      <td>-0.193171</td>\n",
       "      <td>0.415882</td>\n",
       "      <td>-0.513913</td>\n",
       "      <td>-0.331223</td>\n",
       "    </tr>\n",
       "  </tbody>\n",
       "</table>\n",
       "</div>"
      ],
      "text/plain": [
       "          V         W         X         Y         Z         U\n",
       "A  0.478029  0.222275 -1.713991 -0.289055 -1.472209 -0.994181\n",
       "B  1.998814 -0.068745 -0.398577 -1.836231 -1.500615  0.498200\n",
       "C -0.165022 -0.462716  1.491018  0.328102  0.245732  0.080710\n",
       "D -1.382323  1.129531  1.422767 -0.731570 -0.492096 -1.874419\n",
       "E  0.182690 -0.009573 -0.193171  0.415882 -0.513913 -0.331223"
      ]
     },
     "execution_count": 16,
     "metadata": {},
     "output_type": "execute_result"
    }
   ],
   "source": [
    "df"
   ]
  },
  {
   "cell_type": "code",
   "execution_count": 17,
   "id": "23a0ef9c",
   "metadata": {},
   "outputs": [
    {
     "data": {
      "text/html": [
       "<div>\n",
       "<style scoped>\n",
       "    .dataframe tbody tr th:only-of-type {\n",
       "        vertical-align: middle;\n",
       "    }\n",
       "\n",
       "    .dataframe tbody tr th {\n",
       "        vertical-align: top;\n",
       "    }\n",
       "\n",
       "    .dataframe thead th {\n",
       "        text-align: right;\n",
       "    }\n",
       "</style>\n",
       "<table border=\"1\" class=\"dataframe\">\n",
       "  <thead>\n",
       "    <tr style=\"text-align: right;\">\n",
       "      <th></th>\n",
       "      <th>V</th>\n",
       "      <th>W</th>\n",
       "      <th>X</th>\n",
       "      <th>Y</th>\n",
       "      <th>Z</th>\n",
       "      <th>U</th>\n",
       "    </tr>\n",
       "  </thead>\n",
       "  <tbody>\n",
       "    <tr>\n",
       "      <th>C</th>\n",
       "      <td>-0.165022</td>\n",
       "      <td>-0.462716</td>\n",
       "      <td>1.491018</td>\n",
       "      <td>0.328102</td>\n",
       "      <td>0.245732</td>\n",
       "      <td>0.08071</td>\n",
       "    </tr>\n",
       "  </tbody>\n",
       "</table>\n",
       "</div>"
      ],
      "text/plain": [
       "          V         W         X         Y         Z        U\n",
       "C -0.165022 -0.462716  1.491018  0.328102  0.245732  0.08071"
      ]
     },
     "execution_count": 17,
     "metadata": {},
     "output_type": "execute_result"
    }
   ],
   "source": [
    "df[df['U'] > df['V']]"
   ]
  },
  {
   "cell_type": "code",
   "execution_count": 31,
   "id": "45e85bfc",
   "metadata": {},
   "outputs": [
    {
     "data": {
      "text/html": [
       "<div>\n",
       "<style scoped>\n",
       "    .dataframe tbody tr th:only-of-type {\n",
       "        vertical-align: middle;\n",
       "    }\n",
       "\n",
       "    .dataframe tbody tr th {\n",
       "        vertical-align: top;\n",
       "    }\n",
       "\n",
       "    .dataframe thead th {\n",
       "        text-align: right;\n",
       "    }\n",
       "</style>\n",
       "<table border=\"1\" class=\"dataframe\">\n",
       "  <thead>\n",
       "    <tr style=\"text-align: right;\">\n",
       "      <th></th>\n",
       "      <th>V</th>\n",
       "      <th>W</th>\n",
       "      <th>X</th>\n",
       "      <th>Y</th>\n",
       "      <th>Z</th>\n",
       "      <th>U</th>\n",
       "    </tr>\n",
       "  </thead>\n",
       "  <tbody>\n",
       "    <tr>\n",
       "      <th>A</th>\n",
       "      <td>0.478029</td>\n",
       "      <td>0.222275</td>\n",
       "      <td>-1.713991</td>\n",
       "      <td>-0.289055</td>\n",
       "      <td>-1.472209</td>\n",
       "      <td>-0.994181</td>\n",
       "    </tr>\n",
       "    <tr>\n",
       "      <th>B</th>\n",
       "      <td>1.998814</td>\n",
       "      <td>-0.068745</td>\n",
       "      <td>-0.398577</td>\n",
       "      <td>-1.836231</td>\n",
       "      <td>-1.500615</td>\n",
       "      <td>0.498200</td>\n",
       "    </tr>\n",
       "    <tr>\n",
       "      <th>C</th>\n",
       "      <td>-0.165022</td>\n",
       "      <td>-0.462716</td>\n",
       "      <td>1.491018</td>\n",
       "      <td>0.328102</td>\n",
       "      <td>0.245732</td>\n",
       "      <td>0.080710</td>\n",
       "    </tr>\n",
       "    <tr>\n",
       "      <th>D</th>\n",
       "      <td>-1.382323</td>\n",
       "      <td>1.129531</td>\n",
       "      <td>1.422767</td>\n",
       "      <td>-0.731570</td>\n",
       "      <td>-0.492096</td>\n",
       "      <td>-1.874419</td>\n",
       "    </tr>\n",
       "    <tr>\n",
       "      <th>E</th>\n",
       "      <td>0.182690</td>\n",
       "      <td>-0.009573</td>\n",
       "      <td>-0.193171</td>\n",
       "      <td>0.415882</td>\n",
       "      <td>-0.513913</td>\n",
       "      <td>-0.331223</td>\n",
       "    </tr>\n",
       "  </tbody>\n",
       "</table>\n",
       "</div>"
      ],
      "text/plain": [
       "          V         W         X         Y         Z         U\n",
       "A  0.478029  0.222275 -1.713991 -0.289055 -1.472209 -0.994181\n",
       "B  1.998814 -0.068745 -0.398577 -1.836231 -1.500615  0.498200\n",
       "C -0.165022 -0.462716  1.491018  0.328102  0.245732  0.080710\n",
       "D -1.382323  1.129531  1.422767 -0.731570 -0.492096 -1.874419\n",
       "E  0.182690 -0.009573 -0.193171  0.415882 -0.513913 -0.331223"
      ]
     },
     "execution_count": 31,
     "metadata": {},
     "output_type": "execute_result"
    }
   ],
   "source": [
    "df.head() # This will return the first five rows of the data frame"
   ]
  },
  {
   "cell_type": "code",
   "execution_count": 32,
   "id": "8e833d3a",
   "metadata": {},
   "outputs": [
    {
     "data": {
      "text/html": [
       "<div>\n",
       "<style scoped>\n",
       "    .dataframe tbody tr th:only-of-type {\n",
       "        vertical-align: middle;\n",
       "    }\n",
       "\n",
       "    .dataframe tbody tr th {\n",
       "        vertical-align: top;\n",
       "    }\n",
       "\n",
       "    .dataframe thead th {\n",
       "        text-align: right;\n",
       "    }\n",
       "</style>\n",
       "<table border=\"1\" class=\"dataframe\">\n",
       "  <thead>\n",
       "    <tr style=\"text-align: right;\">\n",
       "      <th></th>\n",
       "      <th>V</th>\n",
       "      <th>W</th>\n",
       "      <th>X</th>\n",
       "      <th>Y</th>\n",
       "      <th>Z</th>\n",
       "      <th>U</th>\n",
       "    </tr>\n",
       "  </thead>\n",
       "  <tbody>\n",
       "    <tr>\n",
       "      <th>A</th>\n",
       "      <td>0.478029</td>\n",
       "      <td>0.222275</td>\n",
       "      <td>-1.713991</td>\n",
       "      <td>-0.289055</td>\n",
       "      <td>-1.472209</td>\n",
       "      <td>-0.994181</td>\n",
       "    </tr>\n",
       "    <tr>\n",
       "      <th>B</th>\n",
       "      <td>1.998814</td>\n",
       "      <td>-0.068745</td>\n",
       "      <td>-0.398577</td>\n",
       "      <td>-1.836231</td>\n",
       "      <td>-1.500615</td>\n",
       "      <td>0.498200</td>\n",
       "    </tr>\n",
       "    <tr>\n",
       "      <th>C</th>\n",
       "      <td>-0.165022</td>\n",
       "      <td>-0.462716</td>\n",
       "      <td>1.491018</td>\n",
       "      <td>0.328102</td>\n",
       "      <td>0.245732</td>\n",
       "      <td>0.080710</td>\n",
       "    </tr>\n",
       "    <tr>\n",
       "      <th>D</th>\n",
       "      <td>-1.382323</td>\n",
       "      <td>1.129531</td>\n",
       "      <td>1.422767</td>\n",
       "      <td>-0.731570</td>\n",
       "      <td>-0.492096</td>\n",
       "      <td>-1.874419</td>\n",
       "    </tr>\n",
       "    <tr>\n",
       "      <th>E</th>\n",
       "      <td>0.182690</td>\n",
       "      <td>-0.009573</td>\n",
       "      <td>-0.193171</td>\n",
       "      <td>0.415882</td>\n",
       "      <td>-0.513913</td>\n",
       "      <td>-0.331223</td>\n",
       "    </tr>\n",
       "  </tbody>\n",
       "</table>\n",
       "</div>"
      ],
      "text/plain": [
       "          V         W         X         Y         Z         U\n",
       "A  0.478029  0.222275 -1.713991 -0.289055 -1.472209 -0.994181\n",
       "B  1.998814 -0.068745 -0.398577 -1.836231 -1.500615  0.498200\n",
       "C -0.165022 -0.462716  1.491018  0.328102  0.245732  0.080710\n",
       "D -1.382323  1.129531  1.422767 -0.731570 -0.492096 -1.874419\n",
       "E  0.182690 -0.009573 -0.193171  0.415882 -0.513913 -0.331223"
      ]
     },
     "execution_count": 32,
     "metadata": {},
     "output_type": "execute_result"
    }
   ],
   "source": [
    "df.tail()# This will return the last five rows of your data frame"
   ]
  },
  {
   "cell_type": "code",
   "execution_count": 33,
   "id": "c436666f",
   "metadata": {},
   "outputs": [
    {
     "data": {
      "text/html": [
       "<div>\n",
       "<style scoped>\n",
       "    .dataframe tbody tr th:only-of-type {\n",
       "        vertical-align: middle;\n",
       "    }\n",
       "\n",
       "    .dataframe tbody tr th {\n",
       "        vertical-align: top;\n",
       "    }\n",
       "\n",
       "    .dataframe thead th {\n",
       "        text-align: right;\n",
       "    }\n",
       "</style>\n",
       "<table border=\"1\" class=\"dataframe\">\n",
       "  <thead>\n",
       "    <tr style=\"text-align: right;\">\n",
       "      <th></th>\n",
       "      <th>V</th>\n",
       "      <th>W</th>\n",
       "      <th>X</th>\n",
       "      <th>Y</th>\n",
       "      <th>Z</th>\n",
       "      <th>U</th>\n",
       "    </tr>\n",
       "  </thead>\n",
       "  <tbody>\n",
       "    <tr>\n",
       "      <th>D</th>\n",
       "      <td>-1.382323</td>\n",
       "      <td>1.129531</td>\n",
       "      <td>1.422767</td>\n",
       "      <td>-0.731570</td>\n",
       "      <td>-0.492096</td>\n",
       "      <td>-1.874419</td>\n",
       "    </tr>\n",
       "    <tr>\n",
       "      <th>E</th>\n",
       "      <td>0.182690</td>\n",
       "      <td>-0.009573</td>\n",
       "      <td>-0.193171</td>\n",
       "      <td>0.415882</td>\n",
       "      <td>-0.513913</td>\n",
       "      <td>-0.331223</td>\n",
       "    </tr>\n",
       "  </tbody>\n",
       "</table>\n",
       "</div>"
      ],
      "text/plain": [
       "          V         W         X         Y         Z         U\n",
       "D -1.382323  1.129531  1.422767 -0.731570 -0.492096 -1.874419\n",
       "E  0.182690 -0.009573 -0.193171  0.415882 -0.513913 -0.331223"
      ]
     },
     "execution_count": 33,
     "metadata": {},
     "output_type": "execute_result"
    }
   ],
   "source": [
    "df.tail(2)"
   ]
  },
  {
   "cell_type": "markdown",
   "id": "9bd41d0f",
   "metadata": {},
   "source": [
    "* # Concatinate"
   ]
  },
  {
   "cell_type": "code",
   "execution_count": 41,
   "id": "a0af3901",
   "metadata": {},
   "outputs": [],
   "source": [
    "df1  = pd.DataFrame({'A':['A0','A1','A2','A3'],\n",
    "                     'B':['B0','B1','B2','B3'],\n",
    "                    'C':['C0','C1','C2','C3']},index =[0,1,2,3])"
   ]
  },
  {
   "cell_type": "code",
   "execution_count": 42,
   "id": "456099d8",
   "metadata": {},
   "outputs": [],
   "source": [
    "df2  = pd.DataFrame({'A':['A4','A5','A6','A7'],\n",
    "                     'B':['B4','B5','B6','B7'],\n",
    "                    'C':['C4','C5','C6','C7']},index =[0,1,2,3])"
   ]
  },
  {
   "cell_type": "code",
   "execution_count": 43,
   "id": "625f06ea",
   "metadata": {},
   "outputs": [
    {
     "data": {
      "text/html": [
       "<div>\n",
       "<style scoped>\n",
       "    .dataframe tbody tr th:only-of-type {\n",
       "        vertical-align: middle;\n",
       "    }\n",
       "\n",
       "    .dataframe tbody tr th {\n",
       "        vertical-align: top;\n",
       "    }\n",
       "\n",
       "    .dataframe thead th {\n",
       "        text-align: right;\n",
       "    }\n",
       "</style>\n",
       "<table border=\"1\" class=\"dataframe\">\n",
       "  <thead>\n",
       "    <tr style=\"text-align: right;\">\n",
       "      <th></th>\n",
       "      <th>A</th>\n",
       "      <th>B</th>\n",
       "      <th>C</th>\n",
       "    </tr>\n",
       "  </thead>\n",
       "  <tbody>\n",
       "    <tr>\n",
       "      <th>0</th>\n",
       "      <td>A0</td>\n",
       "      <td>B0</td>\n",
       "      <td>C0</td>\n",
       "    </tr>\n",
       "    <tr>\n",
       "      <th>1</th>\n",
       "      <td>A1</td>\n",
       "      <td>B1</td>\n",
       "      <td>C1</td>\n",
       "    </tr>\n",
       "    <tr>\n",
       "      <th>2</th>\n",
       "      <td>A2</td>\n",
       "      <td>B2</td>\n",
       "      <td>C2</td>\n",
       "    </tr>\n",
       "    <tr>\n",
       "      <th>3</th>\n",
       "      <td>A3</td>\n",
       "      <td>B3</td>\n",
       "      <td>C3</td>\n",
       "    </tr>\n",
       "    <tr>\n",
       "      <th>0</th>\n",
       "      <td>A4</td>\n",
       "      <td>B4</td>\n",
       "      <td>C4</td>\n",
       "    </tr>\n",
       "    <tr>\n",
       "      <th>1</th>\n",
       "      <td>A5</td>\n",
       "      <td>B5</td>\n",
       "      <td>C5</td>\n",
       "    </tr>\n",
       "    <tr>\n",
       "      <th>2</th>\n",
       "      <td>A6</td>\n",
       "      <td>B6</td>\n",
       "      <td>C6</td>\n",
       "    </tr>\n",
       "    <tr>\n",
       "      <th>3</th>\n",
       "      <td>A7</td>\n",
       "      <td>B7</td>\n",
       "      <td>C7</td>\n",
       "    </tr>\n",
       "  </tbody>\n",
       "</table>\n",
       "</div>"
      ],
      "text/plain": [
       "    A   B   C\n",
       "0  A0  B0  C0\n",
       "1  A1  B1  C1\n",
       "2  A2  B2  C2\n",
       "3  A3  B3  C3\n",
       "0  A4  B4  C4\n",
       "1  A5  B5  C5\n",
       "2  A6  B6  C6\n",
       "3  A7  B7  C7"
      ]
     },
     "execution_count": 43,
     "metadata": {},
     "output_type": "execute_result"
    }
   ],
   "source": [
    "pd.concat([df1,df2])"
   ]
  },
  {
   "cell_type": "code",
   "execution_count": 46,
   "id": "5c7e40cc",
   "metadata": {},
   "outputs": [
    {
     "data": {
      "text/html": [
       "<div>\n",
       "<style scoped>\n",
       "    .dataframe tbody tr th:only-of-type {\n",
       "        vertical-align: middle;\n",
       "    }\n",
       "\n",
       "    .dataframe tbody tr th {\n",
       "        vertical-align: top;\n",
       "    }\n",
       "\n",
       "    .dataframe thead th {\n",
       "        text-align: right;\n",
       "    }\n",
       "</style>\n",
       "<table border=\"1\" class=\"dataframe\">\n",
       "  <thead>\n",
       "    <tr style=\"text-align: right;\">\n",
       "      <th></th>\n",
       "      <th>A</th>\n",
       "      <th>B</th>\n",
       "      <th>C</th>\n",
       "      <th>A</th>\n",
       "      <th>B</th>\n",
       "      <th>C</th>\n",
       "    </tr>\n",
       "  </thead>\n",
       "  <tbody>\n",
       "    <tr>\n",
       "      <th>0</th>\n",
       "      <td>A0</td>\n",
       "      <td>B0</td>\n",
       "      <td>C0</td>\n",
       "      <td>A4</td>\n",
       "      <td>B4</td>\n",
       "      <td>C4</td>\n",
       "    </tr>\n",
       "    <tr>\n",
       "      <th>1</th>\n",
       "      <td>A1</td>\n",
       "      <td>B1</td>\n",
       "      <td>C1</td>\n",
       "      <td>A5</td>\n",
       "      <td>B5</td>\n",
       "      <td>C5</td>\n",
       "    </tr>\n",
       "    <tr>\n",
       "      <th>2</th>\n",
       "      <td>A2</td>\n",
       "      <td>B2</td>\n",
       "      <td>C2</td>\n",
       "      <td>A6</td>\n",
       "      <td>B6</td>\n",
       "      <td>C6</td>\n",
       "    </tr>\n",
       "    <tr>\n",
       "      <th>3</th>\n",
       "      <td>A3</td>\n",
       "      <td>B3</td>\n",
       "      <td>C3</td>\n",
       "      <td>A7</td>\n",
       "      <td>B7</td>\n",
       "      <td>C7</td>\n",
       "    </tr>\n",
       "  </tbody>\n",
       "</table>\n",
       "</div>"
      ],
      "text/plain": [
       "    A   B   C   A   B   C\n",
       "0  A0  B0  C0  A4  B4  C4\n",
       "1  A1  B1  C1  A5  B5  C5\n",
       "2  A2  B2  C2  A6  B6  C6\n",
       "3  A3  B3  C3  A7  B7  C7"
      ]
     },
     "execution_count": 46,
     "metadata": {},
     "output_type": "execute_result"
    }
   ],
   "source": [
    "pd.concat([df1,df2],axis=1)"
   ]
  },
  {
   "cell_type": "markdown",
   "id": "af363392",
   "metadata": {},
   "source": [
    "# : Merging and joining data frame"
   ]
  },
  {
   "cell_type": "code",
   "execution_count": null,
   "id": "62aca5b9",
   "metadata": {},
   "outputs": [],
   "source": []
  }
 ],
 "metadata": {
  "kernelspec": {
   "display_name": "Python 3 (ipykernel)",
   "language": "python",
   "name": "python3"
  },
  "language_info": {
   "codemirror_mode": {
    "name": "ipython",
    "version": 3
   },
   "file_extension": ".py",
   "mimetype": "text/x-python",
   "name": "python",
   "nbconvert_exporter": "python",
   "pygments_lexer": "ipython3",
   "version": "3.9.12"
  }
 },
 "nbformat": 4,
 "nbformat_minor": 5
}
