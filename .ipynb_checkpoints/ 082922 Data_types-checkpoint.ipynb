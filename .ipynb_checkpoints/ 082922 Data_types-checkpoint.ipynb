{
 "cells": [
  {
   "cell_type": "markdown",
   "id": "ed34c809",
   "metadata": {},
   "source": [
    "# Day 4\n",
    "* Data types\n",
    "    * Integers\n",
    "    * Strings\n",
    "    * Printing\n",
    "    * String Methods\n",
    "    * Lists\n",
    "    * Booleans\n",
    "    * Dictionaries\n",
    "    * Tuples\n",
    "    * Sets\n",
    "    * Printing\n",
    "    * Sets\n",
    "* Basic Operations\n",
    "    * Comparison Operators\n",
    "    * For Loops\n",
    "    * if, elif, else statements\n",
    "    * while loops\n",
    "    * range()\n",
    "    * list comprehension\n",
    "    * functions\n",
    "    * lambda expressions\n",
    "    * map and filter"
   ]
  },
  {
   "cell_type": "code",
   "execution_count": 1,
   "id": "ca6235bd",
   "metadata": {},
   "outputs": [
    {
     "data": {
      "text/plain": [
       "int"
      ]
     },
     "execution_count": 1,
     "metadata": {},
     "output_type": "execute_result"
    }
   ],
   "source": [
    "# Integers: -1, 1, 3, -30, 1000, There are no decimals in an integer\n",
    "type(5)"
   ]
  },
  {
   "cell_type": "code",
   "execution_count": 2,
   "id": "c5b3449a",
   "metadata": {},
   "outputs": [
    {
     "data": {
      "text/plain": [
       "float"
      ]
     },
     "execution_count": 2,
     "metadata": {},
     "output_type": "execute_result"
    }
   ],
   "source": [
    "#Floats : Decimals, fractions, irrational numbers, rational numbers\n",
    "type(3.14) "
   ]
  },
  {
   "cell_type": "markdown",
   "id": "13069ffd",
   "metadata": {},
   "source": [
    "* Exp is  $\\pi$, $\\frac{1}{3}$"
   ]
  },
  {
   "cell_type": "code",
   "execution_count": 5,
   "id": "027e6ab0",
   "metadata": {},
   "outputs": [
    {
     "name": "stdout",
     "output_type": "stream",
     "text": [
      "<class 'str'>\n"
     ]
    }
   ],
   "source": [
    "# Strings: Alphanumeric Characters/ Scentences, must be in \"\" i.e: \"Hello World\", 'Bruh', '12', \"14\"\n",
    "# DO NOT MIX THE '' AND THE \"\" IN A SINGLE STRING\n",
    "# Use '' for a single word, use \" \" for a scentence, and use '\" \"' for a multiline scentence(in python only).\n",
    "print(type(\"This is a double quote string\"))"
   ]
  },
  {
   "cell_type": "code",
   "execution_count": 4,
   "id": "710bc463",
   "metadata": {},
   "outputs": [
    {
     "name": "stdout",
     "output_type": "stream",
     "text": [
      "<class 'str'>\n"
     ]
    }
   ],
   "source": [
    "print(type('This is a singe quote string'))"
   ]
  },
  {
   "cell_type": "code",
   "execution_count": 6,
   "id": "f91229d8",
   "metadata": {},
   "outputs": [
    {
     "name": "stdout",
     "output_type": "stream",
     "text": [
      "14 World Hello\n"
     ]
    }
   ],
   "source": [
    "#Variable assignment: Cant be a number and must be on the left side of the \"=\" sign\n",
    "# 2 = 4 (Never do this)\n",
    "# 4 = x ( Dont do this either)\n",
    "# You can do this x2 = 4 or x_2 = 4 but not 2x = 4 (Think algebra)\n",
    "x = 14\n",
    "y = 'World'\n",
    "z = \"Hello\"\n",
    "print(x, y, z)"
   ]
  },
  {
   "cell_type": "code",
   "execution_count": 2,
   "id": "d46ccdaf",
   "metadata": {},
   "outputs": [
    {
     "name": "stdout",
     "output_type": "stream",
     "text": [
      "Greetings, Mark Twain , Welcome to our company.\n"
     ]
    }
   ],
   "source": [
    "#Cool Ways to use the print() statement\n",
    "Firstname = \"Mark\"\n",
    "Lastname = \"Twain\"\n",
    "print('Greetings,', Firstname, Lastname, ', Welcome to our company.')"
   ]
  },
  {
   "cell_type": "code",
   "execution_count": 3,
   "id": "a8595d98",
   "metadata": {},
   "outputs": [
    {
     "name": "stdout",
     "output_type": "stream",
     "text": [
      "Greetings, Mark Twain\n"
     ]
    }
   ],
   "source": [
    "print('Greetings, {} {}' .format(Firstname, Lastname))"
   ]
  },
  {
   "cell_type": "code",
   "execution_count": 4,
   "id": "2440511d",
   "metadata": {},
   "outputs": [
    {
     "name": "stdout",
     "output_type": "stream",
     "text": [
      "Hello!, Jerry\n"
     ]
    }
   ],
   "source": [
    "#F strings\n",
    "name = 'Jerry'\n",
    "print(f\"Hello!, {name}\")"
   ]
  },
  {
   "cell_type": "code",
   "execution_count": 5,
   "id": "7a9f8d29",
   "metadata": {},
   "outputs": [
    {
     "name": "stdout",
     "output_type": "stream",
     "text": [
      "Greetings, Twain Mark\n"
     ]
    }
   ],
   "source": [
    "# If you dont wanna respect the order of the .format method\n",
    "print('Greetings, {one} {two}' .format(two = Firstname, one = Lastname))"
   ]
  },
  {
   "cell_type": "markdown",
   "id": "508981a3",
   "metadata": {},
   "source": [
    "* ### String Methods"
   ]
  },
  {
   "cell_type": "code",
   "execution_count": 6,
   "id": "3fba651a",
   "metadata": {},
   "outputs": [
    {
     "name": "stdout",
     "output_type": "stream",
     "text": [
      "GEORGE\n"
     ]
    }
   ],
   "source": [
    "# String method: Upper() makes all characters in a string uppercase\n",
    "name = 'george'\n",
    "print(name.upper())"
   ]
  },
  {
   "cell_type": "code",
   "execution_count": 7,
   "id": "1c3cfe9d",
   "metadata": {},
   "outputs": [
    {
     "name": "stdout",
     "output_type": "stream",
     "text": [
      "George\n"
     ]
    }
   ],
   "source": [
    "# title() method makes the first character uppercase\n",
    "print(name.title())"
   ]
  },
  {
   "cell_type": "code",
   "execution_count": 8,
   "id": "d572a575",
   "metadata": {},
   "outputs": [
    {
     "name": "stdout",
     "output_type": "stream",
     "text": [
      "liam\n"
     ]
    }
   ],
   "source": [
    "#lower() method makes all characters in a string lowercase\n",
    "NewName = 'LIAM'\n",
    "print(NewName.lower())"
   ]
  },
  {
   "cell_type": "code",
   "execution_count": 12,
   "id": "8e1f0db6",
   "metadata": {},
   "outputs": [
    {
     "name": "stdout",
     "output_type": "stream",
     "text": [
      "                                Susan                                 \n"
     ]
    }
   ],
   "source": [
    "#center(put a number in here) method prints the string to the middle of a line depending on the number placed in the parameters\n",
    "center_name = 'Susan'\n",
    "print(center_name.center(70))"
   ]
  },
  {
   "cell_type": "code",
   "execution_count": 13,
   "id": "082abfd9",
   "metadata": {},
   "outputs": [
    {
     "name": "stdout",
     "output_type": "stream",
     "text": [
      "1\n"
     ]
    }
   ],
   "source": [
    "#count('place a chracter or string in here') method, counts the amount a specific character appears in a string (case sensitive)\n",
    "print(center_name.count('s'))"
   ]
  },
  {
   "cell_type": "code",
   "execution_count": 14,
   "id": "784407ca",
   "metadata": {},
   "outputs": [
    {
     "name": "stdout",
     "output_type": "stream",
     "text": [
      "True\n"
     ]
    }
   ],
   "source": [
    "#endswith('place a character in here') returns true if a string ends with a certain charcter\n",
    "print(center_name.endswith('n'))"
   ]
  },
  {
   "cell_type": "code",
   "execution_count": 15,
   "id": "d6052fe9",
   "metadata": {},
   "outputs": [
    {
     "data": {
      "text/plain": [
       "str"
      ]
     },
     "execution_count": 15,
     "metadata": {},
     "output_type": "execute_result"
    }
   ],
   "source": [
    "#isnumeric() method returns true if the string only has numbers\n",
    "num = '123'\n",
    "type(num)"
   ]
  },
  {
   "cell_type": "code",
   "execution_count": 16,
   "id": "0f4d81d6",
   "metadata": {},
   "outputs": [
    {
     "name": "stdout",
     "output_type": "stream",
     "text": [
      "True\n"
     ]
    }
   ],
   "source": [
    "print(num.isnumeric())"
   ]
  },
  {
   "cell_type": "code",
   "execution_count": 20,
   "id": "7fc8643b",
   "metadata": {},
   "outputs": [],
   "source": [
    "#strip() removes the spaces in the string.\n",
    "#lstrip() stips all the spaces on the left side of the string\n",
    "#rstrip() strips all the spaces on the right side of the string\n",
    "last_name = '  Smith  '\n"
   ]
  },
  {
   "cell_type": "code",
   "execution_count": 21,
   "id": "392602b0",
   "metadata": {},
   "outputs": [
    {
     "name": "stdout",
     "output_type": "stream",
     "text": [
      "9\n"
     ]
    }
   ],
   "source": [
    "#len() returns the length of the string\n",
    "print(len(last_name))"
   ]
  },
  {
   "cell_type": "code",
   "execution_count": 22,
   "id": "cdadb48d",
   "metadata": {},
   "outputs": [],
   "source": [
    "r_name = last_name.rstrip()"
   ]
  },
  {
   "cell_type": "code",
   "execution_count": 23,
   "id": "3d677ad8",
   "metadata": {},
   "outputs": [
    {
     "name": "stdout",
     "output_type": "stream",
     "text": [
      "7\n"
     ]
    }
   ],
   "source": [
    "print(len(r_name))"
   ]
  },
  {
   "cell_type": "code",
   "execution_count": 24,
   "id": "f5253dbe",
   "metadata": {},
   "outputs": [
    {
     "name": "stdout",
     "output_type": "stream",
     "text": [
      "Smith\n"
     ]
    }
   ],
   "source": [
    "sname = last_name.strip()\n",
    "print(sname)"
   ]
  },
  {
   "cell_type": "markdown",
   "id": "dbd73ab7",
   "metadata": {},
   "source": [
    "## * List\n",
    "Lists are used to store multiple items in a single variable. List members are created inside square brackets \"[]\""
   ]
  },
  {
   "cell_type": "code",
   "execution_count": 1,
   "id": "c230b9a1",
   "metadata": {},
   "outputs": [
    {
     "data": {
      "text/plain": [
       "['apple', 'orange', 'mango', 'banana']"
      ]
     },
     "execution_count": 1,
     "metadata": {},
     "output_type": "execute_result"
    }
   ],
   "source": [
    "a_list = ['apple', 'orange', 'mango', 'banana', ]\n",
    "a_list"
   ]
  },
  {
   "cell_type": "code",
   "execution_count": 2,
   "id": "084e144f",
   "metadata": {},
   "outputs": [
    {
     "data": {
      "text/plain": [
       "list"
      ]
     },
     "execution_count": 2,
     "metadata": {},
     "output_type": "execute_result"
    }
   ],
   "source": [
    "type(a_list)"
   ]
  },
  {
   "cell_type": "code",
   "execution_count": 3,
   "id": "445b1a3e",
   "metadata": {},
   "outputs": [
    {
     "data": {
      "text/plain": [
       "['apple', 'orange', 'mango', 'banana', 'peach']"
      ]
     },
     "execution_count": 3,
     "metadata": {},
     "output_type": "execute_result"
    }
   ],
   "source": [
    "#append() method adds a member to a list\n",
    "a_list.append('peach')\n",
    "a_list"
   ]
  },
  {
   "cell_type": "code",
   "execution_count": 4,
   "id": "2bfd3459",
   "metadata": {},
   "outputs": [
    {
     "data": {
      "text/plain": [
       "['apple', 'mango', 'banana', 'peach']"
      ]
     },
     "execution_count": 4,
     "metadata": {},
     "output_type": "execute_result"
    }
   ],
   "source": [
    "#pop(index of member you want to remove) removes a member of a list at the specfic index\n",
    "a_list.pop(1)\n",
    "a_list"
   ]
  },
  {
   "cell_type": "code",
   "execution_count": 5,
   "id": "9e7cabb2",
   "metadata": {},
   "outputs": [
    {
     "data": {
      "text/plain": [
       "'apple'"
      ]
     },
     "execution_count": 5,
     "metadata": {},
     "output_type": "execute_result"
    }
   ],
   "source": [
    "a_list[0]"
   ]
  },
  {
   "cell_type": "code",
   "execution_count": 6,
   "id": "b908ddb9",
   "metadata": {},
   "outputs": [
    {
     "data": {
      "text/plain": [
       "'peach'"
      ]
     },
     "execution_count": 6,
     "metadata": {},
     "output_type": "execute_result"
    }
   ],
   "source": [
    "# putting -1 as the index will return the last member of the list no matter what\n",
    "a_list[-1]"
   ]
  },
  {
   "cell_type": "code",
   "execution_count": 7,
   "id": "6f4bff10",
   "metadata": {},
   "outputs": [
    {
     "data": {
      "text/plain": [
       "'peach'"
      ]
     },
     "execution_count": 7,
     "metadata": {},
     "output_type": "execute_result"
    }
   ],
   "source": [
    "a_list[3]"
   ]
  },
  {
   "cell_type": "code",
   "execution_count": 8,
   "id": "8b505386",
   "metadata": {},
   "outputs": [
    {
     "data": {
      "text/plain": [
       "['red',\n",
       " 'blue',\n",
       " 'orange',\n",
       " 'purple',\n",
       " 'pink',\n",
       " 'green',\n",
       " 'brown',\n",
       " 'violet',\n",
       " 'white',\n",
       " 'black']"
      ]
     },
     "execution_count": 8,
     "metadata": {},
     "output_type": "execute_result"
    }
   ],
   "source": [
    "colors = ['red', 'blue', 'orange', 'purple', 'pink', 'green', 'brown', 'violet', 'white', 'black']\n",
    "colors"
   ]
  },
  {
   "cell_type": "code",
   "execution_count": 9,
   "id": "eb32a7df",
   "metadata": {},
   "outputs": [
    {
     "data": {
      "text/plain": [
       "['red',\n",
       " 'blue',\n",
       " 'orange',\n",
       " 'purple',\n",
       " 'pink',\n",
       " 'green',\n",
       " 'brown',\n",
       " 'violet',\n",
       " 'white',\n",
       " 'black',\n",
       " 'indigo']"
      ]
     },
     "execution_count": 9,
     "metadata": {},
     "output_type": "execute_result"
    }
   ],
   "source": [
    "colors.append('indigo')\n",
    "colors"
   ]
  },
  {
   "cell_type": "code",
   "execution_count": 10,
   "id": "2a30492a",
   "metadata": {},
   "outputs": [
    {
     "data": {
      "text/plain": [
       "'red'"
      ]
     },
     "execution_count": 10,
     "metadata": {},
     "output_type": "execute_result"
    }
   ],
   "source": [
    "colors.pop(0)"
   ]
  },
  {
   "cell_type": "code",
   "execution_count": 11,
   "id": "8812feef",
   "metadata": {},
   "outputs": [
    {
     "data": {
      "text/plain": [
       "['blue',\n",
       " 'orange',\n",
       " 'purple',\n",
       " 'pink',\n",
       " 'green',\n",
       " 'brown',\n",
       " 'violet',\n",
       " 'white',\n",
       " 'black',\n",
       " 'indigo']"
      ]
     },
     "execution_count": 11,
     "metadata": {},
     "output_type": "execute_result"
    }
   ],
   "source": [
    "colors"
   ]
  },
  {
   "cell_type": "code",
   "execution_count": 12,
   "id": "42edf9dd",
   "metadata": {},
   "outputs": [
    {
     "data": {
      "text/plain": [
       "'indigo'"
      ]
     },
     "execution_count": 12,
     "metadata": {},
     "output_type": "execute_result"
    }
   ],
   "source": [
    "colors[-1]"
   ]
  },
  {
   "cell_type": "code",
   "execution_count": 13,
   "id": "a360ed30",
   "metadata": {},
   "outputs": [
    {
     "data": {
      "text/plain": [
       "'pink'"
      ]
     },
     "execution_count": 13,
     "metadata": {},
     "output_type": "execute_result"
    }
   ],
   "source": [
    "colors[3]"
   ]
  },
  {
   "cell_type": "code",
   "execution_count": 14,
   "id": "4f69357a",
   "metadata": {},
   "outputs": [
    {
     "data": {
      "text/plain": [
       "['apple', 'banana', 'peach']"
      ]
     },
     "execution_count": 14,
     "metadata": {},
     "output_type": "execute_result"
    }
   ],
   "source": [
    "#remove() method. Removes a member by its name or its index\n",
    "a_list.remove('mango')\n",
    "a_list"
   ]
  },
  {
   "cell_type": "code",
   "execution_count": 15,
   "id": "19bc7224",
   "metadata": {},
   "outputs": [],
   "source": [
    "#copy() makes a copy of a list\n",
    "b_list = a_list.copy()"
   ]
  },
  {
   "cell_type": "code",
   "execution_count": 16,
   "id": "19c7363f",
   "metadata": {},
   "outputs": [
    {
     "data": {
      "text/plain": [
       "['apple', 'banana', 'peach']"
      ]
     },
     "execution_count": 16,
     "metadata": {},
     "output_type": "execute_result"
    }
   ],
   "source": [
    "b_list"
   ]
  },
  {
   "cell_type": "markdown",
   "id": "609664e0",
   "metadata": {},
   "source": [
    "* ## Dictionaries\n",
    "Used to store (key : value) pairs. The items in a dictionary are declared using curly brackets \"{}\""
   ]
  },
  {
   "cell_type": "code",
   "execution_count": 18,
   "id": "a2a13325",
   "metadata": {},
   "outputs": [
    {
     "data": {
      "text/plain": [
       "{'Make': 'Toyota', 'Model': 'Land Cruiser', 'Year': 2022}"
      ]
     },
     "execution_count": 18,
     "metadata": {},
     "output_type": "execute_result"
    }
   ],
   "source": [
    "#example of a dictionary\n",
    "cars = {'Make': 'Toyota', 'Model' : 'Land Cruiser', 'Year':2022}\n",
    "cars"
   ]
  },
  {
   "cell_type": "code",
   "execution_count": 19,
   "id": "a73b4438",
   "metadata": {},
   "outputs": [
    {
     "data": {
      "text/plain": [
       "'Toyota'"
      ]
     },
     "execution_count": 19,
     "metadata": {},
     "output_type": "execute_result"
    }
   ],
   "source": [
    "# getting information using a key in a dictionary\n",
    "cars['Make']"
   ]
  },
  {
   "cell_type": "code",
   "execution_count": 20,
   "id": "5859ac18",
   "metadata": {},
   "outputs": [
    {
     "data": {
      "text/plain": [
       "{'Make': 'Toyota', 'Model': 'Land Cruiser', 'Year': 2023}"
      ]
     },
     "execution_count": 20,
     "metadata": {},
     "output_type": "execute_result"
    }
   ],
   "source": [
    "#Changing the value stored with a key\n",
    "cars['Year'] = 2023\n",
    "cars"
   ]
  },
  {
   "cell_type": "code",
   "execution_count": 21,
   "id": "dfc239a8",
   "metadata": {},
   "outputs": [
    {
     "data": {
      "text/plain": [
       "{'Make': 'Toyota', 'Model': 'Land Cruiser', 'Year': 2023, 'Color': 'Black'}"
      ]
     },
     "execution_count": 21,
     "metadata": {},
     "output_type": "execute_result"
    }
   ],
   "source": [
    "#Adding a new key:value pair to a dictionary\n",
    "cars['Color'] = 'Black'\n",
    "cars"
   ]
  },
  {
   "cell_type": "code",
   "execution_count": 22,
   "id": "7db62859",
   "metadata": {},
   "outputs": [
    {
     "data": {
      "text/plain": [
       "dict_values(['Toyota', 'Land Cruiser', 2023, 'Black'])"
      ]
     },
     "execution_count": 22,
     "metadata": {},
     "output_type": "execute_result"
    }
   ],
   "source": [
    "#values() method returns all the values of the dictionaries\n",
    "cars.values()"
   ]
  },
  {
   "cell_type": "code",
   "execution_count": 23,
   "id": "17d912ef",
   "metadata": {},
   "outputs": [
    {
     "data": {
      "text/plain": [
       "dict_items([('Make', 'Toyota'), ('Model', 'Land Cruiser'), ('Year', 2023), ('Color', 'Black')])"
      ]
     },
     "execution_count": 23,
     "metadata": {},
     "output_type": "execute_result"
    }
   ],
   "source": [
    "#item() method returns key:value pairs\n",
    "cars.items()"
   ]
  },
  {
   "cell_type": "code",
   "execution_count": 24,
   "id": "5ed217eb",
   "metadata": {},
   "outputs": [
    {
     "data": {
      "text/plain": [
       "{'flour': 'wheat',\n",
       " 'type': 'white',\n",
       " 'sugar': 43,\n",
       " 'sliced': True,\n",
       " 'crust': 'butter'}"
      ]
     },
     "execution_count": 24,
     "metadata": {},
     "output_type": "execute_result"
    }
   ],
   "source": [
    "# Dictionary examples\n",
    "bread = {'flour': 'wheat', 'type': 'white', 'sugar':43, 'sliced': True, 'crust':'butter'}\n",
    "bread"
   ]
  },
  {
   "cell_type": "code",
   "execution_count": 25,
   "id": "a92f5b67",
   "metadata": {},
   "outputs": [
    {
     "data": {
      "text/plain": [
       "{'flour': 'rye',\n",
       " 'type': 'white',\n",
       " 'sugar': 43,\n",
       " 'sliced': True,\n",
       " 'crust': 'butter'}"
      ]
     },
     "execution_count": 25,
     "metadata": {},
     "output_type": "execute_result"
    }
   ],
   "source": [
    "bread['flour'] = 'rye'\n",
    "bread"
   ]
  },
  {
   "cell_type": "code",
   "execution_count": 26,
   "id": "25e5ddc4",
   "metadata": {},
   "outputs": [
    {
     "data": {
      "text/plain": [
       "{'flour': 'rye',\n",
       " 'type': 'white',\n",
       " 'sugar': 43,\n",
       " 'sliced': True,\n",
       " 'crust': 'butter',\n",
       " 'spice': 'cinnamon'}"
      ]
     },
     "execution_count": 26,
     "metadata": {},
     "output_type": "execute_result"
    }
   ],
   "source": [
    "bread['spice'] = 'cinnamon'\n",
    "bread"
   ]
  },
  {
   "cell_type": "code",
   "execution_count": 28,
   "id": "62094fe1",
   "metadata": {},
   "outputs": [
    {
     "data": {
      "text/plain": [
       "{'flour': 'rye',\n",
       " 'type': 'sourdough',\n",
       " 'sugar': 43,\n",
       " 'sliced': True,\n",
       " 'crust': 'butter',\n",
       " 'spice': 'cinnamon'}"
      ]
     },
     "execution_count": 28,
     "metadata": {},
     "output_type": "execute_result"
    }
   ],
   "source": [
    "bread['type'] = 'sourdough'\n",
    "bread"
   ]
  },
  {
   "cell_type": "code",
   "execution_count": 29,
   "id": "4b675207",
   "metadata": {},
   "outputs": [
    {
     "data": {
      "text/plain": [
       "{'flour': 'rye',\n",
       " 'type': 'sourdough',\n",
       " 'sugar': 43,\n",
       " 'sliced': False,\n",
       " 'crust': 'butter',\n",
       " 'spice': 'cinnamon'}"
      ]
     },
     "execution_count": 29,
     "metadata": {},
     "output_type": "execute_result"
    }
   ],
   "source": [
    "bread['sliced'] = False\n",
    "bread"
   ]
  },
  {
   "cell_type": "code",
   "execution_count": null,
   "id": "f1ac4899",
   "metadata": {},
   "outputs": [],
   "source": []
  }
 ],
 "metadata": {
  "kernelspec": {
   "display_name": "Python 3 (ipykernel)",
   "language": "python",
   "name": "python3"
  },
  "language_info": {
   "codemirror_mode": {
    "name": "ipython",
    "version": 3
   },
   "file_extension": ".py",
   "mimetype": "text/x-python",
   "name": "python",
   "nbconvert_exporter": "python",
   "pygments_lexer": "ipython3",
   "version": "3.9.12"
  }
 },
 "nbformat": 4,
 "nbformat_minor": 5
}
