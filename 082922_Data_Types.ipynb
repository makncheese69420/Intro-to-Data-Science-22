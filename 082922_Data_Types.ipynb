{
 "cells": [
  {
   "cell_type": "markdown",
   "id": "a393e28c",
   "metadata": {},
   "source": [
    "# Day 4\n",
    " * Data Types\n",
    "     * Numbers\n",
    "     * Strings\n",
    "     * Variable Assignment\n",
    "     * Printing\n",
    "     * Strings methods\n",
    "     * Lists\n",
    "     * Dictionaries\n",
    "     * Boolians\n",
    "     * Tuples\n",
    "     * Sets\n",
    " * Bsic Operations\n",
    "     * Comparison Operators\n",
    "     * if, elif, else ststements\n",
    "     * for loops\n",
    "     * while loops\n",
    "     * range()\n",
    "     * list comprehension\n",
    "     * functions\n",
    "     * lambda expressions\n",
    "     * map and filter\n",
    "    "
   ]
  },
  {
   "cell_type": "markdown",
   "id": "6ec68772",
   "metadata": {},
   "source": [
    "* Integers: ...-5,-4,-3,-2,-1,0,1,2,3,4......"
   ]
  },
  {
   "cell_type": "code",
   "execution_count": 1,
   "id": "6da7d733",
   "metadata": {},
   "outputs": [
    {
     "data": {
      "text/plain": [
       "int"
      ]
     },
     "execution_count": 1,
     "metadata": {},
     "output_type": "execute_result"
    }
   ],
   "source": [
    "type(15)"
   ]
  },
  {
   "cell_type": "markdown",
   "id": "1b4015ea",
   "metadata": {},
   "source": [
    "* Floats: decimals, rationals, irrationals\n",
    "* Exp is $\\pi$, $\\frac{1}{3}$"
   ]
  },
  {
   "cell_type": "code",
   "execution_count": 2,
   "id": "bf10c24a",
   "metadata": {},
   "outputs": [
    {
     "data": {
      "text/plain": [
       "float"
      ]
     },
     "execution_count": 2,
     "metadata": {},
     "output_type": "execute_result"
    }
   ],
   "source": [
    "type(3.14)"
   ]
  },
  {
   "cell_type": "code",
   "execution_count": 3,
   "id": "0007e357",
   "metadata": {},
   "outputs": [
    {
     "data": {
      "text/plain": [
       "float"
      ]
     },
     "execution_count": 3,
     "metadata": {},
     "output_type": "execute_result"
    }
   ],
   "source": [
    "type(0.33)"
   ]
  },
  {
   "cell_type": "markdown",
   "id": "d2559c50",
   "metadata": {},
   "source": [
    "* Strings: Example \"Moussa\", 'Howard', ' ', '2', '%', '_'\n"
   ]
  },
  {
   "cell_type": "code",
   "execution_count": 4,
   "id": "4ed1b813",
   "metadata": {},
   "outputs": [
    {
     "name": "stdout",
     "output_type": "stream",
     "text": [
      "<class 'str'>\n"
     ]
    }
   ],
   "source": [
    "print(type('I am single quotes'))"
   ]
  },
  {
   "cell_type": "code",
   "execution_count": 5,
   "id": "5660708b",
   "metadata": {},
   "outputs": [
    {
     "name": "stdout",
     "output_type": "stream",
     "text": [
      "2\n"
     ]
    }
   ],
   "source": [
    "print('2')"
   ]
  },
  {
   "cell_type": "code",
   "execution_count": 6,
   "id": "d1240832",
   "metadata": {},
   "outputs": [
    {
     "data": {
      "text/plain": [
       "'2'"
      ]
     },
     "execution_count": 6,
     "metadata": {},
     "output_type": "execute_result"
    }
   ],
   "source": [
    "'2'"
   ]
  },
  {
   "cell_type": "code",
   "execution_count": 7,
   "id": "b7d1ce93",
   "metadata": {},
   "outputs": [
    {
     "data": {
      "text/plain": [
       "2"
      ]
     },
     "execution_count": 7,
     "metadata": {},
     "output_type": "execute_result"
    }
   ],
   "source": [
    "int('2')"
   ]
  },
  {
   "cell_type": "code",
   "execution_count": 8,
   "id": "ad3bd91d",
   "metadata": {},
   "outputs": [
    {
     "name": "stdout",
     "output_type": "stream",
     "text": [
      "<class 'str'>\n"
     ]
    }
   ],
   "source": [
    "print(type(\"I am double quotes\"))"
   ]
  },
  {
   "cell_type": "code",
   "execution_count": 9,
   "id": "2a45e640",
   "metadata": {},
   "outputs": [
    {
     "name": "stdout",
     "output_type": "stream",
     "text": [
      "<class 'str'>\n"
     ]
    }
   ],
   "source": [
    "print(type(\" \"))"
   ]
  },
  {
   "cell_type": "markdown",
   "id": "2f0e38e4",
   "metadata": {},
   "source": [
    "* Variable Assignment: never do this $->$ 2x = \"Hello\"\n",
    "* Can do this x2=\"Hello\", x_2=\"Hello\"\n",
    "* Don't do this 10 = x, but x = 10\n",
    "* Don't do this y = 'World!\"\n"
   ]
  },
  {
   "cell_type": "code",
   "execution_count": 10,
   "id": "ffb9a728",
   "metadata": {},
   "outputs": [
    {
     "ename": "SyntaxError",
     "evalue": "cannot assign to literal (854173099.py, line 1)",
     "output_type": "error",
     "traceback": [
      "\u001b[1;36m  Input \u001b[1;32mIn [10]\u001b[1;36m\u001b[0m\n\u001b[1;33m    20  = x\u001b[0m\n\u001b[1;37m    ^\u001b[0m\n\u001b[1;31mSyntaxError\u001b[0m\u001b[1;31m:\u001b[0m cannot assign to literal\n"
     ]
    }
   ],
   "source": [
    "20  = x\n",
    "print(x)"
   ]
  },
  {
   "cell_type": "code",
   "execution_count": 11,
   "id": "223a17b3",
   "metadata": {},
   "outputs": [
    {
     "name": "stdout",
     "output_type": "stream",
     "text": [
      "20\n"
     ]
    }
   ],
   "source": [
    "x = 20\n",
    "print(x)"
   ]
  },
  {
   "cell_type": "code",
   "execution_count": 12,
   "id": "374a9e5e",
   "metadata": {},
   "outputs": [],
   "source": [
    "x = 2022"
   ]
  },
  {
   "cell_type": "markdown",
   "id": "7219c157",
   "metadata": {},
   "source": [
    "* Printing"
   ]
  },
  {
   "cell_type": "code",
   "execution_count": 13,
   "id": "c897918f",
   "metadata": {},
   "outputs": [
    {
     "name": "stdout",
     "output_type": "stream",
     "text": [
      "Moussa Doumbia\n"
     ]
    }
   ],
   "source": [
    "Name = 'Moussa Doumbia'\n",
    "print(Name)"
   ]
  },
  {
   "cell_type": "code",
   "execution_count": 14,
   "id": "cb79387f",
   "metadata": {},
   "outputs": [
    {
     "data": {
      "text/plain": [
       "'Moussa Doumbia'"
      ]
     },
     "execution_count": 14,
     "metadata": {},
     "output_type": "execute_result"
    }
   ],
   "source": [
    "Name"
   ]
  },
  {
   "cell_type": "code",
   "execution_count": 15,
   "id": "beedb15c",
   "metadata": {},
   "outputs": [
    {
     "name": "stdout",
     "output_type": "stream",
     "text": [
      "Greetings, Moussa  D Welcome to our company\n"
     ]
    }
   ],
   "source": [
    "\n",
    "New_First = \"Moussa \"\n",
    "New_Last = \"D\"\n",
    "print(\"Greetings,\", New_First, New_Last, 'Welcome to our company')"
   ]
  },
  {
   "cell_type": "code",
   "execution_count": 16,
   "id": "ca00acea",
   "metadata": {},
   "outputs": [
    {
     "name": "stdout",
     "output_type": "stream",
     "text": [
      "Greetings, Moussa D welcome to our company\n"
     ]
    }
   ],
   "source": [
    "print('Greetings, {}{}'.format(New_First, New_Last), \n",
    "      'welcome to our company')"
   ]
  },
  {
   "cell_type": "code",
   "execution_count": 17,
   "id": "32a269c6",
   "metadata": {},
   "outputs": [],
   "source": [
    "name = 'John'"
   ]
  },
  {
   "cell_type": "code",
   "execution_count": 18,
   "id": "aceeaed3",
   "metadata": {},
   "outputs": [
    {
     "name": "stdout",
     "output_type": "stream",
     "text": [
      "Hello, John\n"
     ]
    }
   ],
   "source": [
    "print(f\"Hello, {name}\")"
   ]
  },
  {
   "cell_type": "code",
   "execution_count": 20,
   "id": "10193d0d",
   "metadata": {},
   "outputs": [],
   "source": [
    "name = 'Emami'\n",
    "greetings = 'Welcome to data science class'"
   ]
  },
  {
   "cell_type": "code",
   "execution_count": 23,
   "id": "ac4608e8",
   "metadata": {},
   "outputs": [
    {
     "name": "stdout",
     "output_type": "stream",
     "text": [
      "Hello Emami\n",
      " Welcome to data science class\n"
     ]
    }
   ],
   "source": [
    "print('Hello {}\\n {}'.format(name, greetings))"
   ]
  },
  {
   "cell_type": "code",
   "execution_count": 24,
   "id": "675616b6",
   "metadata": {},
   "outputs": [
    {
     "name": "stdout",
     "output_type": "stream",
     "text": [
      "Hello Emami\n",
      " Welcome to data science class\n"
     ]
    }
   ],
   "source": [
    "print('Hello {one}\\n {two}'.format(two=greetings, one =name))"
   ]
  },
  {
   "cell_type": "code",
   "execution_count": 28,
   "id": "11ca4a8a",
   "metadata": {},
   "outputs": [
    {
     "name": "stdout",
     "output_type": "stream",
     "text": [
      "Hello Emami Welcome to data science class\n"
     ]
    }
   ],
   "source": [
    "print('Hello ' + name +' '+ greetings)"
   ]
  },
  {
   "cell_type": "markdown",
   "id": "66fadfb9",
   "metadata": {},
   "source": [
    "* ### Strings methods"
   ]
  },
  {
   "cell_type": "code",
   "execution_count": 32,
   "id": "1b8d2eff",
   "metadata": {},
   "outputs": [],
   "source": [
    "# Upper() method\n",
    "name = 'naomi'"
   ]
  },
  {
   "cell_type": "code",
   "execution_count": 31,
   "id": "b748754c",
   "metadata": {},
   "outputs": [
    {
     "name": "stdout",
     "output_type": "stream",
     "text": [
      "NAOMI\n"
     ]
    }
   ],
   "source": [
    "print(name.upper())"
   ]
  },
  {
   "cell_type": "code",
   "execution_count": 33,
   "id": "11cb0bf1",
   "metadata": {},
   "outputs": [
    {
     "name": "stdout",
     "output_type": "stream",
     "text": [
      "Naomi\n"
     ]
    }
   ],
   "source": [
    "# Title method\n",
    "print(name.title())"
   ]
  },
  {
   "cell_type": "code",
   "execution_count": 34,
   "id": "482f9763",
   "metadata": {},
   "outputs": [],
   "source": [
    "# lower() method\n",
    "second_name = 'JOHN'"
   ]
  },
  {
   "cell_type": "code",
   "execution_count": 35,
   "id": "41d78068",
   "metadata": {},
   "outputs": [
    {
     "name": "stdout",
     "output_type": "stream",
     "text": [
      "john\n"
     ]
    }
   ],
   "source": [
    "print(second_name.lower())"
   ]
  },
  {
   "cell_type": "code",
   "execution_count": 36,
   "id": "c1475e88",
   "metadata": {},
   "outputs": [],
   "source": [
    "# Center() method\n",
    "center_name = 'Saujane'"
   ]
  },
  {
   "cell_type": "code",
   "execution_count": 42,
   "id": "313f1408",
   "metadata": {},
   "outputs": [
    {
     "name": "stdout",
     "output_type": "stream",
     "text": [
      "                          Saujane                           \n"
     ]
    }
   ],
   "source": [
    "print(center_name.center(60))"
   ]
  },
  {
   "cell_type": "code",
   "execution_count": 46,
   "id": "9310382d",
   "metadata": {},
   "outputs": [
    {
     "name": "stdout",
     "output_type": "stream",
     "text": [
      "2\n"
     ]
    }
   ],
   "source": [
    "# Count() method\n",
    "print(center_name.count('a'))"
   ]
  },
  {
   "cell_type": "code",
   "execution_count": 49,
   "id": "ef6b17ac",
   "metadata": {},
   "outputs": [
    {
     "name": "stdout",
     "output_type": "stream",
     "text": [
      "True\n"
     ]
    }
   ],
   "source": [
    "# Endwith() method\n",
    "print(center_name.endswith('e'))"
   ]
  },
  {
   "cell_type": "code",
   "execution_count": 50,
   "id": "d6f1f8ef",
   "metadata": {},
   "outputs": [],
   "source": [
    "# Isnumeric() method\n",
    "num = '123'"
   ]
  },
  {
   "cell_type": "code",
   "execution_count": 51,
   "id": "b617184c",
   "metadata": {},
   "outputs": [
    {
     "data": {
      "text/plain": [
       "str"
      ]
     },
     "execution_count": 51,
     "metadata": {},
     "output_type": "execute_result"
    }
   ],
   "source": [
    "type(num)"
   ]
  },
  {
   "cell_type": "code",
   "execution_count": 52,
   "id": "bb980c21",
   "metadata": {},
   "outputs": [
    {
     "name": "stdout",
     "output_type": "stream",
     "text": [
      "True\n"
     ]
    }
   ],
   "source": [
    "print(num.isnumeric())"
   ]
  },
  {
   "cell_type": "code",
   "execution_count": 53,
   "id": "ad4d581e",
   "metadata": {},
   "outputs": [],
   "source": [
    "num_1 = num.isnumeric()"
   ]
  },
  {
   "cell_type": "code",
   "execution_count": 54,
   "id": "1d7cdcc9",
   "metadata": {},
   "outputs": [
    {
     "data": {
      "text/plain": [
       "bool"
      ]
     },
     "execution_count": 54,
     "metadata": {},
     "output_type": "execute_result"
    }
   ],
   "source": [
    "type(num_1)"
   ]
  },
  {
   "cell_type": "code",
   "execution_count": 56,
   "id": "97b27573",
   "metadata": {},
   "outputs": [],
   "source": [
    "# strip method\n",
    "last_name = '   Smith    '"
   ]
  },
  {
   "cell_type": "code",
   "execution_count": 57,
   "id": "9bc91962",
   "metadata": {},
   "outputs": [
    {
     "data": {
      "text/plain": [
       "12"
      ]
     },
     "execution_count": 57,
     "metadata": {},
     "output_type": "execute_result"
    }
   ],
   "source": [
    "len(last_name)"
   ]
  },
  {
   "cell_type": "code",
   "execution_count": 58,
   "id": "9b5b7d5d",
   "metadata": {},
   "outputs": [],
   "source": [
    "r_name = last_name.rstrip()"
   ]
  },
  {
   "cell_type": "code",
   "execution_count": 60,
   "id": "2fd01ea3",
   "metadata": {},
   "outputs": [
    {
     "data": {
      "text/plain": [
       "8"
      ]
     },
     "execution_count": 60,
     "metadata": {},
     "output_type": "execute_result"
    }
   ],
   "source": [
    "len(r_name)\n"
   ]
  },
  {
   "cell_type": "code",
   "execution_count": 63,
   "id": "b6c87b2c",
   "metadata": {},
   "outputs": [],
   "source": [
    "l_name = last_name.lstrip()"
   ]
  },
  {
   "cell_type": "code",
   "execution_count": 64,
   "id": "15207f53",
   "metadata": {},
   "outputs": [
    {
     "data": {
      "text/plain": [
       "'Smith    '"
      ]
     },
     "execution_count": 64,
     "metadata": {},
     "output_type": "execute_result"
    }
   ],
   "source": [
    "l_name"
   ]
  },
  {
   "cell_type": "code",
   "execution_count": 65,
   "id": "27e34d57",
   "metadata": {},
   "outputs": [
    {
     "data": {
      "text/plain": [
       "9"
      ]
     },
     "execution_count": 65,
     "metadata": {},
     "output_type": "execute_result"
    }
   ],
   "source": [
    "len(l_name)"
   ]
  },
  {
   "cell_type": "code",
   "execution_count": 66,
   "id": "ae05255a",
   "metadata": {},
   "outputs": [],
   "source": [
    "sname = last_name.strip()"
   ]
  },
  {
   "cell_type": "code",
   "execution_count": 67,
   "id": "34aa27f0",
   "metadata": {},
   "outputs": [
    {
     "data": {
      "text/plain": [
       "'Smith'"
      ]
     },
     "execution_count": 67,
     "metadata": {},
     "output_type": "execute_result"
    }
   ],
   "source": [
    "sname"
   ]
  },
  {
   "cell_type": "code",
   "execution_count": 68,
   "id": "ce92e356",
   "metadata": {},
   "outputs": [
    {
     "data": {
      "text/plain": [
       "5"
      ]
     },
     "execution_count": 68,
     "metadata": {},
     "output_type": "execute_result"
    }
   ],
   "source": [
    "len(sname)"
   ]
  },
  {
   "cell_type": "markdown",
   "id": "39c69cad",
   "metadata": {},
   "source": [
    "* ## List\n",
    "Lists are used to store multiple items in a single variavle. List members are created inside square brackets"
   ]
  },
  {
   "cell_type": "code",
   "execution_count": 1,
   "id": "fd6e095a",
   "metadata": {},
   "outputs": [
    {
     "data": {
      "text/plain": [
       "['apple', 'orange', 'mango', 'banana']"
      ]
     },
     "execution_count": 1,
     "metadata": {},
     "output_type": "execute_result"
    }
   ],
   "source": [
    "a_list = ['apple','orange', 'mango','banana']\n",
    "a_list"
   ]
  },
  {
   "cell_type": "code",
   "execution_count": 2,
   "id": "25ee841f",
   "metadata": {},
   "outputs": [
    {
     "data": {
      "text/plain": [
       "list"
      ]
     },
     "execution_count": 2,
     "metadata": {},
     "output_type": "execute_result"
    }
   ],
   "source": [
    "type(a_list)"
   ]
  },
  {
   "cell_type": "code",
   "execution_count": 3,
   "id": "95944d4e",
   "metadata": {},
   "outputs": [],
   "source": [
    "# Append method\n",
    "a_list.append('Peach')"
   ]
  },
  {
   "cell_type": "code",
   "execution_count": 4,
   "id": "10692781",
   "metadata": {},
   "outputs": [
    {
     "data": {
      "text/plain": [
       "['apple', 'orange', 'mango', 'banana', 'Peach']"
      ]
     },
     "execution_count": 4,
     "metadata": {},
     "output_type": "execute_result"
    }
   ],
   "source": [
    "a_list"
   ]
  },
  {
   "cell_type": "code",
   "execution_count": 5,
   "id": "e7e0c075",
   "metadata": {},
   "outputs": [
    {
     "data": {
      "text/plain": [
       "'orange'"
      ]
     },
     "execution_count": 5,
     "metadata": {},
     "output_type": "execute_result"
    }
   ],
   "source": [
    "# Pop method\n",
    "a_list.pop(1)"
   ]
  },
  {
   "cell_type": "code",
   "execution_count": 6,
   "id": "48708df1",
   "metadata": {},
   "outputs": [
    {
     "data": {
      "text/plain": [
       "'apple'"
      ]
     },
     "execution_count": 6,
     "metadata": {},
     "output_type": "execute_result"
    }
   ],
   "source": [
    "a_list[0]"
   ]
  },
  {
   "cell_type": "code",
   "execution_count": 7,
   "id": "da47c962",
   "metadata": {},
   "outputs": [
    {
     "data": {
      "text/plain": [
       "'Peach'"
      ]
     },
     "execution_count": 7,
     "metadata": {},
     "output_type": "execute_result"
    }
   ],
   "source": [
    "a_list[-1]"
   ]
  },
  {
   "cell_type": "code",
   "execution_count": 8,
   "id": "58057d09",
   "metadata": {},
   "outputs": [
    {
     "data": {
      "text/plain": [
       "['apple', 'mango', 'banana', 'Peach']"
      ]
     },
     "execution_count": 8,
     "metadata": {},
     "output_type": "execute_result"
    }
   ],
   "source": [
    "a_list"
   ]
  },
  {
   "cell_type": "code",
   "execution_count": 9,
   "id": "b7b90877",
   "metadata": {},
   "outputs": [
    {
     "data": {
      "text/plain": [
       "'Peach'"
      ]
     },
     "execution_count": 9,
     "metadata": {},
     "output_type": "execute_result"
    }
   ],
   "source": [
    "a_list[3]"
   ]
  },
  {
   "cell_type": "code",
   "execution_count": 10,
   "id": "74bc723e",
   "metadata": {},
   "outputs": [
    {
     "data": {
      "text/plain": [
       "['apple', 'banana', 'Peach']"
      ]
     },
     "execution_count": 10,
     "metadata": {},
     "output_type": "execute_result"
    }
   ],
   "source": [
    "# Remove method\n",
    "a_list.remove('mango')\n",
    "a_list"
   ]
  },
  {
   "cell_type": "code",
   "execution_count": 11,
   "id": "9f16cbad",
   "metadata": {},
   "outputs": [
    {
     "data": {
      "text/plain": [
       "['apple', 'banana', 'Peach']"
      ]
     },
     "execution_count": 11,
     "metadata": {},
     "output_type": "execute_result"
    }
   ],
   "source": [
    "b_list = a_list.copy()\n",
    "b_list"
   ]
  },
  {
   "cell_type": "markdown",
   "id": "f10929f7",
   "metadata": {},
   "source": [
    "* ## Dictionaries\n",
    "Are used to store key: value. The items in a dictionary are created inside curly brackets {}"
   ]
  },
  {
   "cell_type": "code",
   "execution_count": 13,
   "id": "564dd7ab",
   "metadata": {},
   "outputs": [
    {
     "data": {
      "text/plain": [
       "{'Make': 'Toyota', 'Model': 'Land Cruiser', 'Year': 2022}"
      ]
     },
     "execution_count": 13,
     "metadata": {},
     "output_type": "execute_result"
    }
   ],
   "source": [
    "#Exp:\n",
    "cars = {'Make':'Toyota','Model':'Land Cruiser','Year':2022}\n",
    "cars"
   ]
  },
  {
   "cell_type": "code",
   "execution_count": 14,
   "id": "e83dfbef",
   "metadata": {},
   "outputs": [
    {
     "data": {
      "text/plain": [
       "'Toyota'"
      ]
     },
     "execution_count": 14,
     "metadata": {},
     "output_type": "execute_result"
    }
   ],
   "source": [
    "cars['Make']"
   ]
  },
  {
   "cell_type": "code",
   "execution_count": 15,
   "id": "bd511622",
   "metadata": {},
   "outputs": [
    {
     "data": {
      "text/plain": [
       "{'Make': 'Toyota', 'Model': 'Land Cruiser', 'Year': 2023}"
      ]
     },
     "execution_count": 15,
     "metadata": {},
     "output_type": "execute_result"
    }
   ],
   "source": [
    "cars['Year'] = 2023\n",
    "cars"
   ]
  },
  {
   "cell_type": "code",
   "execution_count": 16,
   "id": "71d8f1ff",
   "metadata": {},
   "outputs": [
    {
     "data": {
      "text/plain": [
       "{'Make': 'Toyota', 'Model': 'Land Cruiser', 'Year': 2023, 'Color': 'black'}"
      ]
     },
     "execution_count": 16,
     "metadata": {},
     "output_type": "execute_result"
    }
   ],
   "source": [
    "cars['Color'] = 'black'\n",
    "cars"
   ]
  },
  {
   "cell_type": "code",
   "execution_count": 17,
   "id": "1c2d3ccd",
   "metadata": {},
   "outputs": [
    {
     "data": {
      "text/plain": [
       "dict_keys(['Make', 'Model', 'Year', 'Color'])"
      ]
     },
     "execution_count": 17,
     "metadata": {},
     "output_type": "execute_result"
    }
   ],
   "source": [
    "cars.keys()"
   ]
  },
  {
   "cell_type": "code",
   "execution_count": 18,
   "id": "4b679e27",
   "metadata": {},
   "outputs": [
    {
     "data": {
      "text/plain": [
       "dict_values(['Toyota', 'Land Cruiser', 2023, 'black'])"
      ]
     },
     "execution_count": 18,
     "metadata": {},
     "output_type": "execute_result"
    }
   ],
   "source": [
    "cars.values()"
   ]
  },
  {
   "cell_type": "code",
   "execution_count": 19,
   "id": "41862b5f",
   "metadata": {},
   "outputs": [
    {
     "data": {
      "text/plain": [
       "dict_items([('Make', 'Toyota'), ('Model', 'Land Cruiser'), ('Year', 2023), ('Color', 'black')])"
      ]
     },
     "execution_count": 19,
     "metadata": {},
     "output_type": "execute_result"
    }
   ],
   "source": [
    "cars.items()"
   ]
  },
  {
   "cell_type": "markdown",
   "id": "14816758",
   "metadata": {},
   "source": [
    "* # Booleans"
   ]
  },
  {
   "cell_type": "code",
   "execution_count": 1,
   "id": "36908dc7",
   "metadata": {},
   "outputs": [
    {
     "name": "stdout",
     "output_type": "stream",
     "text": [
      "False\n"
     ]
    }
   ],
   "source": [
    "print(True == False)"
   ]
  },
  {
   "cell_type": "code",
   "execution_count": 2,
   "id": "94d48699",
   "metadata": {},
   "outputs": [
    {
     "name": "stdout",
     "output_type": "stream",
     "text": [
      "True\n"
     ]
    }
   ],
   "source": [
    "print((2>3)or (12<56))"
   ]
  },
  {
   "cell_type": "code",
   "execution_count": 3,
   "id": "810dd353",
   "metadata": {},
   "outputs": [
    {
     "name": "stdout",
     "output_type": "stream",
     "text": [
      "True\n"
     ]
    }
   ],
   "source": [
    "print((2>3)|(12<56))"
   ]
  },
  {
   "cell_type": "code",
   "execution_count": 4,
   "id": "271a5c91",
   "metadata": {},
   "outputs": [
    {
     "name": "stdout",
     "output_type": "stream",
     "text": [
      "False\n"
     ]
    }
   ],
   "source": [
    "print((2>3)and (12<56))"
   ]
  },
  {
   "cell_type": "code",
   "execution_count": 5,
   "id": "4d1bce26",
   "metadata": {},
   "outputs": [
    {
     "name": "stdout",
     "output_type": "stream",
     "text": [
      "False\n"
     ]
    }
   ],
   "source": [
    "print((2>3)&(12<56))"
   ]
  },
  {
   "cell_type": "code",
   "execution_count": 6,
   "id": "18148f37",
   "metadata": {},
   "outputs": [
    {
     "name": "stdout",
     "output_type": "stream",
     "text": [
      "False\n"
     ]
    }
   ],
   "source": [
    "print(10 == 9)"
   ]
  },
  {
   "cell_type": "code",
   "execution_count": 7,
   "id": "24c917e2",
   "metadata": {},
   "outputs": [
    {
     "name": "stdout",
     "output_type": "stream",
     "text": [
      "True\n"
     ]
    }
   ],
   "source": [
    "print(10 != 9)"
   ]
  },
  {
   "cell_type": "markdown",
   "id": "2d2589f5",
   "metadata": {},
   "source": [
    "* # Tuples are unmutable object"
   ]
  },
  {
   "cell_type": "code",
   "execution_count": 8,
   "id": "176df634",
   "metadata": {},
   "outputs": [],
   "source": [
    "t = (1,2,3,4,5)"
   ]
  },
  {
   "cell_type": "code",
   "execution_count": 14,
   "id": "065d169a",
   "metadata": {},
   "outputs": [],
   "source": [
    "a,b,c,d,e = t"
   ]
  },
  {
   "cell_type": "code",
   "execution_count": 18,
   "id": "351b2e1a",
   "metadata": {},
   "outputs": [
    {
     "ename": "TypeError",
     "evalue": "'tuple' object does not support item assignment",
     "output_type": "error",
     "traceback": [
      "\u001b[1;31m---------------------------------------------------------------------------\u001b[0m",
      "\u001b[1;31mTypeError\u001b[0m                                 Traceback (most recent call last)",
      "Input \u001b[1;32mIn [18]\u001b[0m, in \u001b[0;36m<cell line: 1>\u001b[1;34m()\u001b[0m\n\u001b[1;32m----> 1\u001b[0m t[\u001b[38;5;241m3\u001b[39m]  \u001b[38;5;241m=\u001b[39m \u001b[38;5;241m100\u001b[39m\n",
      "\u001b[1;31mTypeError\u001b[0m: 'tuple' object does not support item assignment"
     ]
    }
   ],
   "source": [
    "t[3]  = 100"
   ]
  },
  {
   "cell_type": "code",
   "execution_count": 17,
   "id": "09601309",
   "metadata": {},
   "outputs": [
    {
     "data": {
      "text/plain": [
       "5"
      ]
     },
     "execution_count": 17,
     "metadata": {},
     "output_type": "execute_result"
    }
   ],
   "source": [
    "t[-1]"
   ]
  },
  {
   "cell_type": "markdown",
   "id": "c89c7ad7",
   "metadata": {},
   "source": [
    "* # Sets: Do not repeat set member"
   ]
  },
  {
   "cell_type": "code",
   "execution_count": 23,
   "id": "126852cb",
   "metadata": {},
   "outputs": [],
   "source": [
    "L = [1,1,1,2,3,3,3,4,5,6,7,7,7,8,9,9,9]"
   ]
  },
  {
   "cell_type": "code",
   "execution_count": 24,
   "id": "e972de84",
   "metadata": {},
   "outputs": [
    {
     "data": {
      "text/plain": [
       "{1, 2, 3, 4, 5, 6, 7, 8, 9}"
      ]
     },
     "execution_count": 24,
     "metadata": {},
     "output_type": "execute_result"
    }
   ],
   "source": [
    "s1 = set(L)\n",
    "s1"
   ]
  },
  {
   "cell_type": "markdown",
   "id": "5e7bf7b8",
   "metadata": {},
   "source": [
    " # Basic operations"
   ]
  },
  {
   "cell_type": "markdown",
   "id": "512363ba",
   "metadata": {},
   "source": [
    "* ### if, elif, else statements"
   ]
  },
  {
   "cell_type": "code",
   "execution_count": 25,
   "id": "ac654ffc",
   "metadata": {},
   "outputs": [],
   "source": [
    "seq = [1,2,3,4,5,6,7,8,9]"
   ]
  },
  {
   "cell_type": "code",
   "execution_count": 29,
   "id": "7eedecbc",
   "metadata": {},
   "outputs": [],
   "source": [
    "my_list = ['John','Jon','Josh','Abel','Mike','Sean','West','Abdul']"
   ]
  },
  {
   "cell_type": "code",
   "execution_count": 30,
   "id": "c9ea686b",
   "metadata": {},
   "outputs": [],
   "source": [
    "name = 'Mia'"
   ]
  },
  {
   "cell_type": "code",
   "execution_count": 31,
   "id": "e364d6cf",
   "metadata": {},
   "outputs": [
    {
     "name": "stdout",
     "output_type": "stream",
     "text": [
      "Not a student\n"
     ]
    }
   ],
   "source": [
    "if name in my_list:\n",
    "    print('Student')\n",
    "else:\n",
    "    print('Not a student')"
   ]
  },
  {
   "cell_type": "code",
   "execution_count": 41,
   "id": "61331d70",
   "metadata": {},
   "outputs": [],
   "source": [
    "new = 'johns'"
   ]
  },
  {
   "cell_type": "code",
   "execution_count": 42,
   "id": "a86fc27b",
   "metadata": {},
   "outputs": [
    {
     "name": "stdout",
     "output_type": "stream",
     "text": [
      "Sounds familiar\n"
     ]
    }
   ],
   "source": [
    "if new in my_list:\n",
    "    print('Student')\n",
    "elif new[0].upper() == 'J':\n",
    "    print('Sounds familiar')\n",
    "else:\n",
    "    print('Not a student')"
   ]
  },
  {
   "cell_type": "code",
   "execution_count": null,
   "id": "9a318011",
   "metadata": {},
   "outputs": [],
   "source": []
  }
 ],
 "metadata": {
  "kernelspec": {
   "display_name": "Python 3 (ipykernel)",
   "language": "python",
   "name": "python3"
  },
  "language_info": {
   "codemirror_mode": {
    "name": "ipython",
    "version": 3
   },
   "file_extension": ".py",
   "mimetype": "text/x-python",
   "name": "python",
   "nbconvert_exporter": "python",
   "pygments_lexer": "ipython3",
   "version": "3.9.12"
  }
 },
 "nbformat": 4,
 "nbformat_minor": 5
}
