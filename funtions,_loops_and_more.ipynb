{
 "cells": [
  {
   "cell_type": "markdown",
   "id": "8c3aedcd",
   "metadata": {},
   "source": [
    "* Basic Operations\n",
    "    * Comparison Operators\n",
    "    * For Loops\n",
    "    * if, elif, else statements\n",
    "    * while loops\n",
    "    * range()\n",
    "    * list comprehension\n",
    "    * functions\n",
    "    * lambda expressions\n",
    "    * map and filter"
   ]
  },
  {
   "cell_type": "markdown",
   "id": "6c4cfef6",
   "metadata": {},
   "source": [
    "## * Range()"
   ]
  },
  {
   "cell_type": "code",
   "execution_count": 1,
   "id": "81f68c0c",
   "metadata": {},
   "outputs": [
    {
     "data": {
      "text/plain": [
       "range(1, 11)"
      ]
     },
     "execution_count": 1,
     "metadata": {},
     "output_type": "execute_result"
    }
   ],
   "source": [
    "# range(will start from zero and iterate to this number -1, if you add another number it will start with the number you put in first and iterate to this number -1, makes it iterate by the number you put in here)\n",
    "range(1,11)# will return 1 - 11"
   ]
  },
  {
   "cell_type": "code",
   "execution_count": 2,
   "id": "0c6447ae",
   "metadata": {},
   "outputs": [
    {
     "name": "stdout",
     "output_type": "stream",
     "text": [
      "1\n",
      "2\n",
      "3\n",
      "4\n",
      "5\n",
      "6\n",
      "7\n",
      "8\n",
      "9\n",
      "10\n"
     ]
    }
   ],
   "source": [
    "# you can leave an underscore in the for-loop to indicate that the variable is unimportant\n",
    "for _ in range(1,11):\n",
    "    print(_)"
   ]
  },
  {
   "cell_type": "code",
   "execution_count": 3,
   "id": "655478bc",
   "metadata": {},
   "outputs": [
    {
     "name": "stdout",
     "output_type": "stream",
     "text": [
      "1\n",
      "3\n",
      "5\n",
      "7\n",
      "9\n"
     ]
    }
   ],
   "source": [
    "for _ in range(1,11,2):\n",
    "    print(_)"
   ]
  },
  {
   "cell_type": "code",
   "execution_count": 4,
   "id": "06b3cdca",
   "metadata": {},
   "outputs": [
    {
     "name": "stdout",
     "output_type": "stream",
     "text": [
      "0\n",
      "1\n",
      "2\n",
      "3\n",
      "4\n",
      "5\n",
      "6\n",
      "7\n",
      "8\n",
      "9\n",
      "10\n"
     ]
    }
   ],
   "source": [
    "for _ in range(11):\n",
    "    print(_)"
   ]
  },
  {
   "cell_type": "code",
   "execution_count": 5,
   "id": "1b8ec4e5",
   "metadata": {},
   "outputs": [
    {
     "name": "stdout",
     "output_type": "stream",
     "text": [
      "1\n",
      "9\n",
      "25\n",
      "49\n",
      "81\n"
     ]
    }
   ],
   "source": [
    "# \"**\" means to square a number\n",
    "for _ in range(1,11,2):\n",
    "    print(_**2)"
   ]
  },
  {
   "cell_type": "code",
   "execution_count": 6,
   "id": "217861b7",
   "metadata": {},
   "outputs": [
    {
     "name": "stdout",
     "output_type": "stream",
     "text": [
      "1 Odd number\n",
      "2 Even number\n",
      "3 Odd number\n",
      "4 Even number\n",
      "5 Odd number\n",
      "6 Even number\n",
      "7 Odd number\n",
      "8 Even number\n",
      "9 Odd number\n",
      "10 Even number\n"
     ]
    }
   ],
   "source": [
    "# seperate even and odd numbers\n",
    "for _ in range(1,11):\n",
    "    if _ % 2 == 0:\n",
    "        print(_, 'Even number')\n",
    "    else:\n",
    "        print(_,'Odd number')"
   ]
  },
  {
   "cell_type": "code",
   "execution_count": 10,
   "id": "2bd96910",
   "metadata": {},
   "outputs": [
    {
     "name": "stdout",
     "output_type": "stream",
     "text": [
      "1 Odd number\n",
      "2 Even number\n",
      "3 Odd number\n",
      "4 Even number\n",
      "5 Odd number\n",
      "6 Even number\n",
      "7 Odd number\n",
      "8 Even number\n",
      "9 Odd number\n",
      "10 Even number\n"
     ]
    }
   ],
   "source": [
    "# while loops\n",
    "num = 1\n",
    "while num < 11:\n",
    "    if num % 2 == 0:\n",
    "        print(num, 'Even number')\n",
    "        num += 1\n",
    "    else:\n",
    "        print(num, 'Odd number')\n",
    "        num += 1"
   ]
  },
  {
   "cell_type": "markdown",
   "id": "9d739285",
   "metadata": {},
   "source": [
    "* # List Comprehension"
   ]
  },
  {
   "cell_type": "code",
   "execution_count": null,
   "id": "ccc812bb",
   "metadata": {},
   "outputs": [],
   "source": [
    "# write this loop in the list comprehension method\n",
    "for _ in range(1,11):\n",
    "    if _ % 2 == 0:\n",
    "        print(_, 'Even number')\n",
    "    else:\n",
    "        print(_,'Odd number')"
   ]
  },
  {
   "cell_type": "code",
   "execution_count": 11,
   "id": "95d1b267",
   "metadata": {},
   "outputs": [
    {
     "name": "stdout",
     "output_type": "stream",
     "text": [
      "Odd number\n",
      "Even number\n",
      "Odd number\n",
      "Even number\n",
      "Odd number\n",
      "Even number\n",
      "Odd number\n",
      "Even number\n",
      "Odd number\n",
      "Even number\n"
     ]
    },
    {
     "data": {
      "text/plain": [
       "[None, None, None, None, None, None, None, None, None, None]"
      ]
     },
     "execution_count": 11,
     "metadata": {},
     "output_type": "execute_result"
    }
   ],
   "source": [
    "[print('Even number') if _ % 2 == 0 else print('Odd number') for _ in range(1,11)]"
   ]
  },
  {
   "cell_type": "code",
   "execution_count": null,
   "id": "f1b64ce4",
   "metadata": {},
   "outputs": [],
   "source": []
  }
 ],
 "metadata": {
  "kernelspec": {
   "display_name": "Python 3 (ipykernel)",
   "language": "python",
   "name": "python3"
  },
  "language_info": {
   "codemirror_mode": {
    "name": "ipython",
    "version": 3
   },
   "file_extension": ".py",
   "mimetype": "text/x-python",
   "name": "python",
   "nbconvert_exporter": "python",
   "pygments_lexer": "ipython3",
   "version": "3.9.12"
  }
 },
 "nbformat": 4,
 "nbformat_minor": 5
}
